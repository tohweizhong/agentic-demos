{
  "nbformat": 4,
  "nbformat_minor": 0,
  "metadata": {
    "colab": {
      "provenance": [],
      "include_colab_link": true
    },
    "kernelspec": {
      "name": "python3",
      "display_name": "Python 3"
    },
    "language_info": {
      "name": "python"
    }
  },
  "cells": [
    {
      "cell_type": "markdown",
      "metadata": {
        "id": "view-in-github",
        "colab_type": "text"
      },
      "source": [
        "<a href=\"https://colab.research.google.com/github/tohweizhong/agentic-demos/blob/main/ADK_with_Agent_Engine_Integration_with_AgentSpace.ipynb\" target=\"_parent\"><img src=\"https://colab.research.google.com/assets/colab-badge.svg\" alt=\"Open In Colab\"/></a>"
      ]
    },
    {
      "cell_type": "code",
      "source": [
        "# Copyright 2024 Google LLC\n",
        "#\n",
        "# Licensed under the Apache License, Version 2.0 (the \"License\");\n",
        "# you may not use this file except in compliance with the License.\n",
        "# You may obtain a copy of the License at\n",
        "#\n",
        "#     https://www.apache.org/licenses/LICENSE-2.0\n",
        "#\n",
        "# Unless required by applicable law or agreed to in writing, software\n",
        "# distributed under the License is distributed on an \"AS IS\" BASIS,\n",
        "# WITHOUT WARRANTIES OR CONDITIONS OF ANY KIND, either express or implied.\n",
        "# See the License for the specific language governing permissions and\n",
        "# limitations under the License."
      ],
      "metadata": {
        "id": "4KG8heslwNdJ"
      },
      "execution_count": null,
      "outputs": []
    },
    {
      "cell_type": "markdown",
      "source": [
        "#Note\n",
        "This notebook is not shared with external developers. If you're looking for the notebook shared with external developers, it is here: https://colab.sandbox.google.com/drive/1FKrU9bqJzXQNrnhvXeW6Isp9yxPNmsDC?resourcekey=0-evXn6PctfoF1-jC1CJmgGw\n",
        "\n",
        "If you have any issues or feature requests, please feel free to comment in https://b.corp.google.com/issues/404890021\n",
        "\n",
        "Orcas RFC: http://go/orcas-rfc-58"
      ],
      "metadata": {
        "id": "3LxJA5mwEjWC"
      }
    },
    {
      "cell_type": "markdown",
      "source": [
        "# Use the ADK to define an agent and deploy it to Vertex AI Agent Engine\n",
        "This notebook shows how to use the Agent Framework to define a simple, hello world, agent for a dice rolling game. Then, we deploy the defined agent to the Vertex AI Agent Engine to call and manage the agent in production. In this notebook you will learn how to do the following:\n",
        "\n",
        "*  Install Agent Framework\n",
        "*  Define functions as tools\n",
        "*  Create a \"Hello World\" agent using the Agent Framework\n",
        "*  Deploy the agent on Vertex AI Agent Engine\n",
        "*  Call the Agent Engine to manage and interact with the agent\n"
      ],
      "metadata": {
        "id": "3OqG2k_o_zmb"
      }
    },
    {
      "cell_type": "markdown",
      "source": [
        "# Authenticate\n",
        "You need this to download the SDK from GCS"
      ],
      "metadata": {
        "id": "lz5Yy_jXH-Ur"
      }
    },
    {
      "cell_type": "code",
      "execution_count": 1,
      "metadata": {
        "id": "chT-5K9yrrW9"
      },
      "outputs": [],
      "source": [
        "from google.colab import auth\n",
        "auth.authenticate_user()\n",
        "\n",
        "RELEASE_VERSION='google_adk-0.0.2.dev20250402+nightly743266262'\n",
        "WHL_FILE = f\"{RELEASE_VERSION}-py3-none-any.whl\""
      ]
    },
    {
      "cell_type": "markdown",
      "source": [
        "# Download and install the ADK and Agent Engine SDK\n",
        "\n",
        "Download `.whl` file from the shared GCS bucket:"
      ],
      "metadata": {
        "id": "E29jokLY8VRH"
      }
    },
    {
      "cell_type": "code",
      "source": [
        "FOLDER = \"gs://agent_framework/history/\"\n",
        "\n",
        "!gsutil cp {FOLDER}{WHL_FILE} .\n",
        "!pip3 install google_adk-0.0.2.dev*.whl --ignore-requires-python --quiet ## for the google-adk in private preview\n",
        "!pip3 install \"google-cloud-aiplatform[agent_engines] @ git+https://github.com/googleapis/python-aiplatform.git@copybara_738852226\" --force-reinstall --quiet ## for the prebuilt template"
      ],
      "metadata": {
        "colab": {
          "base_uri": "https://localhost:8080/"
        },
        "collapsed": true,
        "id": "kbOr_nWeYa9g",
        "outputId": "6510e66c-afde-46fe-a685-abc4aefb727c"
      },
      "execution_count": 2,
      "outputs": [
        {
          "output_type": "stream",
          "name": "stdout",
          "text": [
            "Copying gs://agent_framework/history/google_adk-0.0.2.dev20250402+nightly743266262-py3-none-any.whl...\n",
            "/ [1 files][551.3 KiB/551.3 KiB]                                                \n",
            "Operation completed over 1 objects/551.3 KiB.                                    \n",
            "\u001b[2K     \u001b[90m━━━━━━━━━━━━━━━━━━━━━━━━━━━━━━━━━━━━━━━━\u001b[0m \u001b[32m44.3/44.3 kB\u001b[0m \u001b[31m3.0 MB/s\u001b[0m eta \u001b[36m0:00:00\u001b[0m\n",
            "\u001b[2K   \u001b[90m━━━━━━━━━━━━━━━━━━━━━━━━━━━━━━━━━━━━━━━━\u001b[0m \u001b[32m240.0/240.0 kB\u001b[0m \u001b[31m9.1 MB/s\u001b[0m eta \u001b[36m0:00:00\u001b[0m\n",
            "\u001b[2K   \u001b[90m━━━━━━━━━━━━━━━━━━━━━━━━━━━━━━━━━━━━━━━━\u001b[0m \u001b[32m130.2/130.2 kB\u001b[0m \u001b[31m10.4 MB/s\u001b[0m eta \u001b[36m0:00:00\u001b[0m\n",
            "\u001b[2K   \u001b[90m━━━━━━━━━━━━━━━━━━━━━━━━━━━━━━━━━━━━━━━━\u001b[0m \u001b[32m65.8/65.8 kB\u001b[0m \u001b[31m5.0 MB/s\u001b[0m eta \u001b[36m0:00:00\u001b[0m\n",
            "\u001b[2K   \u001b[90m━━━━━━━━━━━━━━━━━━━━━━━━━━━━━━━━━━━━━━━━\u001b[0m \u001b[32m118.5/118.5 kB\u001b[0m \u001b[31m9.5 MB/s\u001b[0m eta \u001b[36m0:00:00\u001b[0m\n",
            "\u001b[2K   \u001b[90m━━━━━━━━━━━━━━━━━━━━━━━━━━━━━━━━━━━━━━━━\u001b[0m \u001b[32m196.2/196.2 kB\u001b[0m \u001b[31m15.9 MB/s\u001b[0m eta \u001b[36m0:00:00\u001b[0m\n",
            "\u001b[2K   \u001b[90m━━━━━━━━━━━━━━━━━━━━━━━━━━━━━━━━━━━━━━━━\u001b[0m \u001b[32m41.0/41.0 kB\u001b[0m \u001b[31m3.2 MB/s\u001b[0m eta \u001b[36m0:00:00\u001b[0m\n",
            "\u001b[2K   \u001b[90m━━━━━━━━━━━━━━━━━━━━━━━━━━━━━━━━━━━━━━━━\u001b[0m \u001b[32m10.1/10.1 MB\u001b[0m \u001b[31m88.2 MB/s\u001b[0m eta \u001b[36m0:00:00\u001b[0m\n",
            "\u001b[2K   \u001b[90m━━━━━━━━━━━━━━━━━━━━━━━━━━━━━━━━━━━━━━━━\u001b[0m \u001b[32m103.8/103.8 kB\u001b[0m \u001b[31m8.1 MB/s\u001b[0m eta \u001b[36m0:00:00\u001b[0m\n",
            "\u001b[2K   \u001b[90m━━━━━━━━━━━━━━━━━━━━━━━━━━━━━━━━━━━━━━━━\u001b[0m \u001b[32m7.6/7.6 MB\u001b[0m \u001b[31m108.2 MB/s\u001b[0m eta \u001b[36m0:00:00\u001b[0m\n",
            "\u001b[2K   \u001b[90m━━━━━━━━━━━━━━━━━━━━━━━━━━━━━━━━━━━━━━━━\u001b[0m \u001b[32m45.2/45.2 kB\u001b[0m \u001b[31m3.2 MB/s\u001b[0m eta \u001b[36m0:00:00\u001b[0m\n",
            "\u001b[2K   \u001b[90m━━━━━━━━━━━━━━━━━━━━━━━━━━━━━━━━━━━━━━━━\u001b[0m \u001b[32m6.9/6.9 MB\u001b[0m \u001b[31m92.0 MB/s\u001b[0m eta \u001b[36m0:00:00\u001b[0m\n",
            "\u001b[2K   \u001b[90m━━━━━━━━━━━━━━━━━━━━━━━━━━━━━━━━━━━━━━━━\u001b[0m \u001b[32m304.6/304.6 kB\u001b[0m \u001b[31m20.9 MB/s\u001b[0m eta \u001b[36m0:00:00\u001b[0m\n",
            "\u001b[2K   \u001b[90m━━━━━━━━━━━━━━━━━━━━━━━━━━━━━━━━━━━━━━━━\u001b[0m \u001b[32m79.1/79.1 kB\u001b[0m \u001b[31m6.5 MB/s\u001b[0m eta \u001b[36m0:00:00\u001b[0m\n",
            "\u001b[2K   \u001b[90m━━━━━━━━━━━━━━━━━━━━━━━━━━━━━━━━━━━━━━━━\u001b[0m \u001b[32m1.2/1.2 MB\u001b[0m \u001b[31m54.0 MB/s\u001b[0m eta \u001b[36m0:00:00\u001b[0m\n",
            "\u001b[2K   \u001b[90m━━━━━━━━━━━━━━━━━━━━━━━━━━━━━━━━━━━━━━━━\u001b[0m \u001b[32m50.9/50.9 kB\u001b[0m \u001b[31m3.7 MB/s\u001b[0m eta \u001b[36m0:00:00\u001b[0m\n",
            "\u001b[2K   \u001b[90m━━━━━━━━━━━━━━━━━━━━━━━━━━━━━━━━━━━━━━━━\u001b[0m \u001b[32m129.3/129.3 kB\u001b[0m \u001b[31m9.9 MB/s\u001b[0m eta \u001b[36m0:00:00\u001b[0m\n",
            "\u001b[?25h\u001b[31mERROR: pip's dependency resolver does not currently take into account all the packages that are installed. This behaviour is the source of the following dependency conflicts.\n",
            "ipython 7.34.0 requires jedi>=0.16, which is not installed.\u001b[0m\u001b[31m\n",
            "\u001b[0m  Preparing metadata (setup.py) ... \u001b[?25l\u001b[?25hdone\n",
            "\u001b[2K     \u001b[90m━━━━━━━━━━━━━━━━━━━━━━━━━━━━━━━━━━━━━━━━\u001b[0m \u001b[32m68.0/68.0 kB\u001b[0m \u001b[31m1.9 MB/s\u001b[0m eta \u001b[36m0:00:00\u001b[0m\n",
            "\u001b[2K     \u001b[90m━━━━━━━━━━━━━━━━━━━━━━━━━━━━━━━━━━━━━━━━\u001b[0m \u001b[32m62.1/62.1 kB\u001b[0m \u001b[31m3.4 MB/s\u001b[0m eta \u001b[36m0:00:00\u001b[0m\n",
            "\u001b[2K   \u001b[90m━━━━━━━━━━━━━━━━━━━━━━━━━━━━━━━━━━━━━━━━\u001b[0m \u001b[32m160.8/160.8 kB\u001b[0m \u001b[31m6.2 MB/s\u001b[0m eta \u001b[36m0:00:00\u001b[0m\n",
            "\u001b[2K   \u001b[90m━━━━━━━━━━━━━━━━━━━━━━━━━━━━━━━━━━━━━━━━\u001b[0m \u001b[32m216.1/216.1 kB\u001b[0m \u001b[31m16.7 MB/s\u001b[0m eta \u001b[36m0:00:00\u001b[0m\n",
            "\u001b[2K   \u001b[90m━━━━━━━━━━━━━━━━━━━━━━━━━━━━━━━━━━━━━━━━\u001b[0m \u001b[32m253.6/253.6 kB\u001b[0m \u001b[31m17.5 MB/s\u001b[0m eta \u001b[36m0:00:00\u001b[0m\n",
            "\u001b[2K   \u001b[90m━━━━━━━━━━━━━━━━━━━━━━━━━━━━━━━━━━━━━━━━\u001b[0m \u001b[32m229.5/229.5 kB\u001b[0m \u001b[31m15.5 MB/s\u001b[0m eta \u001b[36m0:00:00\u001b[0m\n",
            "\u001b[2K   \u001b[90m━━━━━━━━━━━━━━━━━━━━━━━━━━━━━━━━━━━━━━━━\u001b[0m \u001b[32m394.3/394.3 kB\u001b[0m \u001b[31m28.1 MB/s\u001b[0m eta \u001b[36m0:00:00\u001b[0m\n",
            "\u001b[2K   \u001b[90m━━━━━━━━━━━━━━━━━━━━━━━━━━━━━━━━━━━━━━━━\u001b[0m \u001b[32m131.8/131.8 kB\u001b[0m \u001b[31m10.8 MB/s\u001b[0m eta \u001b[36m0:00:00\u001b[0m\n",
            "\u001b[2K   \u001b[90m━━━━━━━━━━━━━━━━━━━━━━━━━━━━━━━━━━━━━━━━\u001b[0m \u001b[32m66.5/66.5 kB\u001b[0m \u001b[31m5.6 MB/s\u001b[0m eta \u001b[36m0:00:00\u001b[0m\n",
            "\u001b[2K   \u001b[90m━━━━━━━━━━━━━━━━━━━━━━━━━━━━━━━━━━━━━━━━\u001b[0m \u001b[32m50.2/50.2 kB\u001b[0m \u001b[31m3.9 MB/s\u001b[0m eta \u001b[36m0:00:00\u001b[0m\n",
            "\u001b[2K   \u001b[90m━━━━━━━━━━━━━━━━━━━━━━━━━━━━━━━━━━━━━━━━\u001b[0m \u001b[32m319.9/319.9 kB\u001b[0m \u001b[31m23.3 MB/s\u001b[0m eta \u001b[36m0:00:00\u001b[0m\n",
            "\u001b[2K   \u001b[90m━━━━━━━━━━━━━━━━━━━━━━━━━━━━━━━━━━━━━━━━\u001b[0m \u001b[32m444.8/444.8 kB\u001b[0m \u001b[31m31.0 MB/s\u001b[0m eta \u001b[36m0:00:00\u001b[0m\n",
            "\u001b[2K   \u001b[90m━━━━━━━━━━━━━━━━━━━━━━━━━━━━━━━━━━━━━━━━\u001b[0m \u001b[32m2.0/2.0 MB\u001b[0m \u001b[31m56.8 MB/s\u001b[0m eta \u001b[36m0:00:00\u001b[0m\n",
            "\u001b[2K   \u001b[90m━━━━━━━━━━━━━━━━━━━━━━━━━━━━━━━━━━━━━━━━\u001b[0m \u001b[32m3.1/3.1 MB\u001b[0m \u001b[31m80.6 MB/s\u001b[0m eta \u001b[36m0:00:00\u001b[0m\n",
            "\u001b[2K   \u001b[90m━━━━━━━━━━━━━━━━━━━━━━━━━━━━━━━━━━━━━━━━\u001b[0m \u001b[32m43.8/43.8 kB\u001b[0m \u001b[31m3.1 MB/s\u001b[0m eta \u001b[36m0:00:00\u001b[0m\n",
            "\u001b[2K   \u001b[90m━━━━━━━━━━━━━━━━━━━━━━━━━━━━━━━━━━━━━━━━\u001b[0m \u001b[32m81.3/81.3 kB\u001b[0m \u001b[31m5.9 MB/s\u001b[0m eta \u001b[36m0:00:00\u001b[0m\n",
            "\u001b[2K   \u001b[90m━━━━━━━━━━━━━━━━━━━━━━━━━━━━━━━━━━━━━━━━\u001b[0m \u001b[32m294.5/294.5 kB\u001b[0m \u001b[31m22.8 MB/s\u001b[0m eta \u001b[36m0:00:00\u001b[0m\n",
            "\u001b[2K   \u001b[90m━━━━━━━━━━━━━━━━━━━━━━━━━━━━━━━━━━━━━━━━\u001b[0m \u001b[32m6.0/6.0 MB\u001b[0m \u001b[31m107.6 MB/s\u001b[0m eta \u001b[36m0:00:00\u001b[0m\n",
            "\u001b[2K   \u001b[90m━━━━━━━━━━━━━━━━━━━━━━━━━━━━━━━━━━━━━━━━\u001b[0m \u001b[32m16.9/16.9 MB\u001b[0m \u001b[31m91.6 MB/s\u001b[0m eta \u001b[36m0:00:00\u001b[0m\n",
            "\u001b[2K   \u001b[90m━━━━━━━━━━━━━━━━━━━━━━━━━━━━━━━━━━━━━━━━\u001b[0m \u001b[32m181.3/181.3 kB\u001b[0m \u001b[31m15.2 MB/s\u001b[0m eta \u001b[36m0:00:00\u001b[0m\n",
            "\u001b[2K   \u001b[90m━━━━━━━━━━━━━━━━━━━━━━━━━━━━━━━━━━━━━━━━\u001b[0m \u001b[32m229.9/229.9 kB\u001b[0m \u001b[31m17.3 MB/s\u001b[0m eta \u001b[36m0:00:00\u001b[0m\n",
            "\u001b[2K   \u001b[90m━━━━━━━━━━━━━━━━━━━━━━━━━━━━━━━━━━━━━━━━\u001b[0m \u001b[32m64.8/64.8 kB\u001b[0m \u001b[31m5.3 MB/s\u001b[0m eta \u001b[36m0:00:00\u001b[0m\n",
            "\u001b[2K   \u001b[90m━━━━━━━━━━━━━━━━━━━━━━━━━━━━━━━━━━━━━━━━\u001b[0m \u001b[32m157.7/157.7 kB\u001b[0m \u001b[31m12.3 MB/s\u001b[0m eta \u001b[36m0:00:00\u001b[0m\n",
            "\u001b[2K   \u001b[90m━━━━━━━━━━━━━━━━━━━━━━━━━━━━━━━━━━━━━━━━\u001b[0m \u001b[32m147.3/147.3 kB\u001b[0m \u001b[31m11.9 MB/s\u001b[0m eta \u001b[36m0:00:00\u001b[0m\n",
            "\u001b[2K   \u001b[90m━━━━━━━━━━━━━━━━━━━━━━━━━━━━━━━━━━━━━━━━\u001b[0m \u001b[32m70.4/70.4 kB\u001b[0m \u001b[31m5.5 MB/s\u001b[0m eta \u001b[36m0:00:00\u001b[0m\n",
            "\u001b[2K   \u001b[90m━━━━━━━━━━━━━━━━━━━━━━━━━━━━━━━━━━━━━━━━\u001b[0m \u001b[32m83.1/83.1 kB\u001b[0m \u001b[31m7.6 MB/s\u001b[0m eta \u001b[36m0:00:00\u001b[0m\n",
            "\u001b[2K   \u001b[90m━━━━━━━━━━━━━━━━━━━━━━━━━━━━━━━━━━━━━━━━\u001b[0m \u001b[32m129.8/129.8 kB\u001b[0m \u001b[31m11.3 MB/s\u001b[0m eta \u001b[36m0:00:00\u001b[0m\n",
            "\u001b[?25h  Building wheel for google-cloud-aiplatform (setup.py) ... \u001b[?25l\u001b[?25hdone\n",
            "\u001b[31mERROR: pip's dependency resolver does not currently take into account all the packages that are installed. This behaviour is the source of the following dependency conflicts.\n",
            "google-colab 1.0.0 requires google-auth==2.38.0, but you have google-auth 2.40.3 which is incompatible.\n",
            "google-colab 1.0.0 requires requests==2.32.3, but you have requests 2.32.4 which is incompatible.\n",
            "torch 2.6.0+cu124 requires nvidia-cublas-cu12==12.4.5.8; platform_system == \"Linux\" and platform_machine == \"x86_64\", but you have nvidia-cublas-cu12 12.5.3.2 which is incompatible.\n",
            "torch 2.6.0+cu124 requires nvidia-cuda-cupti-cu12==12.4.127; platform_system == \"Linux\" and platform_machine == \"x86_64\", but you have nvidia-cuda-cupti-cu12 12.5.82 which is incompatible.\n",
            "torch 2.6.0+cu124 requires nvidia-cuda-nvrtc-cu12==12.4.127; platform_system == \"Linux\" and platform_machine == \"x86_64\", but you have nvidia-cuda-nvrtc-cu12 12.5.82 which is incompatible.\n",
            "torch 2.6.0+cu124 requires nvidia-cuda-runtime-cu12==12.4.127; platform_system == \"Linux\" and platform_machine == \"x86_64\", but you have nvidia-cuda-runtime-cu12 12.5.82 which is incompatible.\n",
            "torch 2.6.0+cu124 requires nvidia-cudnn-cu12==9.1.0.70; platform_system == \"Linux\" and platform_machine == \"x86_64\", but you have nvidia-cudnn-cu12 9.3.0.75 which is incompatible.\n",
            "torch 2.6.0+cu124 requires nvidia-cufft-cu12==11.2.1.3; platform_system == \"Linux\" and platform_machine == \"x86_64\", but you have nvidia-cufft-cu12 11.2.3.61 which is incompatible.\n",
            "torch 2.6.0+cu124 requires nvidia-curand-cu12==10.3.5.147; platform_system == \"Linux\" and platform_machine == \"x86_64\", but you have nvidia-curand-cu12 10.3.6.82 which is incompatible.\n",
            "torch 2.6.0+cu124 requires nvidia-cusolver-cu12==11.6.1.9; platform_system == \"Linux\" and platform_machine == \"x86_64\", but you have nvidia-cusolver-cu12 11.6.3.83 which is incompatible.\n",
            "torch 2.6.0+cu124 requires nvidia-cusparse-cu12==12.3.1.170; platform_system == \"Linux\" and platform_machine == \"x86_64\", but you have nvidia-cusparse-cu12 12.5.1.3 which is incompatible.\n",
            "torch 2.6.0+cu124 requires nvidia-nvjitlink-cu12==12.4.127; platform_system == \"Linux\" and platform_machine == \"x86_64\", but you have nvidia-nvjitlink-cu12 12.5.82 which is incompatible.\n",
            "numba 0.60.0 requires numpy<2.1,>=1.22, but you have numpy 2.3.1 which is incompatible.\n",
            "cupy-cuda12x 13.3.0 requires numpy<2.3,>=1.22, but you have numpy 2.3.1 which is incompatible.\n",
            "tensorflow 2.18.0 requires numpy<2.1.0,>=1.26.0, but you have numpy 2.3.1 which is incompatible.\n",
            "langchain-core 0.3.65 requires packaging<25,>=23.2, but you have packaging 25.0 which is incompatible.\u001b[0m\u001b[31m\n",
            "\u001b[0m"
          ]
        }
      ]
    },
    {
      "cell_type": "markdown",
      "source": [
        "# Initialization"
      ],
      "metadata": {
        "id": "osm6MztSEX2y"
      }
    },
    {
      "cell_type": "code",
      "source": [
        "import vertexai\n",
        "from vertexai import agent_engines\n",
        "\n",
        "PROJECT_ID = \"weizhong-project01\" #@param {type:\"string\"}\n",
        "LOCATION = \"us-central1\" #@param {type:\"string\"}\n",
        "STAGING_BUCKET = \"gs://for-agent-engine-may25\" #@param {type:\"string\"}\n",
        "\n",
        "vertexai.init(\n",
        "    project=PROJECT_ID,\n",
        "    location=LOCATION,\n",
        "    staging_bucket=STAGING_BUCKET,\n",
        ")"
      ],
      "metadata": {
        "id": "eHqvFbvjyRUG"
      },
      "execution_count": 3,
      "outputs": []
    },
    {
      "cell_type": "markdown",
      "source": [
        "# Defining functions\n",
        "roll_die - rolls dice to create random number\n",
        "\n",
        "check_prime - checks if a number is prime"
      ],
      "metadata": {
        "id": "1-rAplcsx22u"
      }
    },
    {
      "cell_type": "code",
      "source": [
        "def roll_die(sides: int) -> int:\n",
        "  \"\"\"Roll a die and return the rolled result.\n",
        "\n",
        "  Args:\n",
        "    sides: The integer number of sides the die has.\n",
        "\n",
        "  Returns:\n",
        "    An integer of the result of rolling the die.\n",
        "  \"\"\"\n",
        "  import random\n",
        "\n",
        "  return random.randint(1, sides)"
      ],
      "metadata": {
        "id": "l1G9gtSDw8yt"
      },
      "execution_count": 4,
      "outputs": []
    },
    {
      "cell_type": "code",
      "source": [
        "def check_prime(nums: list[int]) -> list[str]:\n",
        "  \"\"\"Check if a given list of numbers are prime.\n",
        "\n",
        "  Args:\n",
        "    nums: The list of numbers to check.\n",
        "\n",
        "  Returns:\n",
        "    A str indicating which number is prime.\n",
        "  \"\"\"\n",
        "\n",
        "  primes = set()\n",
        "  for number in nums:\n",
        "    number = int(number)\n",
        "    if number <= 1:\n",
        "      continue\n",
        "    is_prime = True\n",
        "    for i in range(2, int(number**0.5) + 1):\n",
        "      if number % i == 0:\n",
        "        is_prime = False\n",
        "        break\n",
        "    if is_prime:\n",
        "      primes.add(number)\n",
        "  return (\n",
        "      'No prime numbers found.'\n",
        "      if not primes\n",
        "      else f\"{', '.join(str(num) for num in primes)} are prime numbers.\"\n",
        "  )"
      ],
      "metadata": {
        "id": "X4buHPVnxA1P"
      },
      "execution_count": 7,
      "outputs": []
    },
    {
      "cell_type": "markdown",
      "source": [
        "# Define an agent in the agent framework\n",
        "\n",
        "An AI agent reasons, plans, and takes actions. The agent takes actions via access to **tools**, deciding how and when to invoke a tool. The agent also manages orchestration, creating a plan for answering a user query and adapting to responses that aren't quite correct.\n",
        "\n",
        "Create a simple agent. An agent requires two things: a display name and a set of instructions. The instructions should be detailed, making it clear exactly how the agent should behave.\n",
        "\n"
      ],
      "metadata": {
        "id": "meW7SNrTyCgn"
      }
    },
    {
      "cell_type": "code",
      "source": [
        "from google.adk.agents import Agent\n",
        "from vertexai.preview.reasoning_engines import AdkApp\n",
        "\n",
        "agent = Agent(\n",
        "    model=\"gemini-2.0-flash\",\n",
        "    name='data_processing_agent',\n",
        "    instruction=\"\"\"\n",
        "      You roll dice and answer questions about the outcome of the dice rolls.\n",
        "      You can roll dice of different sizes.\n",
        "      You can use multiple tools in parallel by calling functions in parallel(in one request and in one round).\n",
        "      The only things you do are roll dice for the user and discuss the outcomes.\n",
        "      It is ok to discuss previous dice roles, and comment on the dice rolls.\n",
        "      When you are asked to roll a die, you must call the roll_die tool with the number of sides. Be sure to pass in an integer. Do not pass in a string.\n",
        "      You should never roll a die on your own.\n",
        "      When checking prime numbers, call the check_prime tool with a list of integers. Be sure to pass in a list of integers. You should never pass in a string.\n",
        "      You should not check prime numbers before calling the tool.\n",
        "      When you are asked to roll a die and check prime numbers, you should always make the following two function calls:\n",
        "      1. You should first call the roll_die tool to get a roll. Wait for the function response before calling the check_prime tool.\n",
        "      2. After you get the function response from roll_die tool, you should call the check_prime tool with the roll_die result.\n",
        "        2.1 If user asks you to check primes based on previous rolls, make sure you include the previous rolls in the list.\n",
        "      3. When you respond, you must include the roll_die result from step 1.\n",
        "      You should always perform the previous 3 steps when asking for a roll and checking prime numbers.\n",
        "      You should not rely on the previous history on prime results.\n",
        "    \"\"\",\n",
        "    tools=[roll_die, check_prime],\n",
        ")\n",
        "\n",
        "app = AdkApp(\n",
        "    agent=agent,\n",
        "    enable_tracing=True,\n",
        "    )\n",
        "\n",
        "app"
      ],
      "metadata": {
        "colab": {
          "base_uri": "https://localhost:8080/"
        },
        "id": "qgSJyIHvyWWY",
        "outputId": "868e1d12-a61e-4946-fe9c-788d053d18da"
      },
      "execution_count": 8,
      "outputs": [
        {
          "output_type": "execute_result",
          "data": {
            "text/plain": [
              "<vertexai.preview.reasoning_engines.templates.adk.AdkApp at 0x79cf8ea1a310>"
            ]
          },
          "metadata": {},
          "execution_count": 8
        }
      ]
    },
    {
      "cell_type": "markdown",
      "source": [
        "## Let's try it (locally)\n",
        "\n",
        "Under the hood, `app: ADKApp` will be using an in-memory session store when running locally.\n",
        "\n",
        "**Remark**: the operations below (i.e., `.create_session`, `.list_sessions`, `.get_session`, `.stream_query`) are only supported by the `agent_engines.ADKApp` class, not the `google.adk.agents.Agent` class."
      ],
      "metadata": {
        "id": "4yRbuebi-Zh6"
      }
    },
    {
      "cell_type": "code",
      "source": [
        "session = app.create_session(user_id=\"wz\")\n",
        "session"
      ],
      "metadata": {
        "colab": {
          "base_uri": "https://localhost:8080/"
        },
        "id": "Zkymo9fmyWY_",
        "outputId": "5b951e08-c8e9-46f6-9fb0-7217e0b5dbb3"
      },
      "execution_count": 9,
      "outputs": [
        {
          "output_type": "execute_result",
          "data": {
            "text/plain": [
              "Session(id='f121efde-cc01-49fa-a606-cbec4402e6ec', app_name='default-app-name', user_id='wz', state={}, events=[], last_update_time=1750660252.3756783)"
            ]
          },
          "metadata": {},
          "execution_count": 9
        }
      ]
    },
    {
      "cell_type": "code",
      "source": [
        "app.list_sessions(user_id=\"wz\")"
      ],
      "metadata": {
        "colab": {
          "base_uri": "https://localhost:8080/"
        },
        "id": "tRo1Yb-TyWc9",
        "outputId": "0df2942e-c678-41f6-859a-0aaccdb40301"
      },
      "execution_count": 11,
      "outputs": [
        {
          "output_type": "execute_result",
          "data": {
            "text/plain": [
              "ListSessionsResponse(session_ids=['f121efde-cc01-49fa-a606-cbec4402e6ec'])"
            ]
          },
          "metadata": {},
          "execution_count": 11
        }
      ]
    },
    {
      "cell_type": "code",
      "source": [
        "session = app.get_session(user_id=\"wz\", session_id=session.id)\n",
        "session"
      ],
      "metadata": {
        "colab": {
          "base_uri": "https://localhost:8080/"
        },
        "id": "XHbEizi-2u8I",
        "outputId": "d5844821-a2e4-401e-ba17-ff127141db0e"
      },
      "execution_count": 12,
      "outputs": [
        {
          "output_type": "execute_result",
          "data": {
            "text/plain": [
              "Session(id='f121efde-cc01-49fa-a606-cbec4402e6ec', app_name='default-app-name', user_id='wz', state={}, events=[], last_update_time=1750660252.3756783)"
            ]
          },
          "metadata": {},
          "execution_count": 12
        }
      ]
    },
    {
      "cell_type": "code",
      "source": [
        "for event in app.stream_query(\n",
        "    user_id=\"wz\",\n",
        "    session_id=session.id,\n",
        "    message=\"roll a 20 sided die\",\n",
        "):\n",
        "    print(event)"
      ],
      "metadata": {
        "colab": {
          "base_uri": "https://localhost:8080/"
        },
        "id": "BR6naQrl2u_a",
        "outputId": "b852d085-fa3d-4c97-a672-7b2ec473d79f"
      },
      "execution_count": 13,
      "outputs": [
        {
          "output_type": "stream",
          "name": "stderr",
          "text": [
            "WARNING:google_genai.types:Warning: there are non-text parts in the response: ['function_call'], returning concatenated text result from text parts. Check the full candidates.content.parts accessor to get the full model response.\n"
          ]
        },
        {
          "output_type": "stream",
          "name": "stdout",
          "text": [
            "{'content': {'parts': [{'function_call': {'id': 'af-7b6827f0-0a76-4ebd-8901-3250850186de', 'args': {'sides': 20}, 'name': 'roll_die'}}], 'role': 'model'}, 'invocation_id': 'e-39941ef4-6811-439b-8470-942171bd6b3d', 'author': 'data_processing_agent', 'actions': {'state_delta': {}, 'artifact_delta': {}, 'requested_auth_configs': {}}, 'long_running_tool_ids': set(), 'id': 'XxT9Hg53', 'timestamp': 1750660263.26358}\n",
            "{'content': {'parts': [{'function_response': {'id': 'af-7b6827f0-0a76-4ebd-8901-3250850186de', 'name': 'roll_die', 'response': {'result': 15}}}], 'role': 'user'}, 'invocation_id': 'e-39941ef4-6811-439b-8470-942171bd6b3d', 'author': 'data_processing_agent', 'actions': {'state_delta': {}, 'artifact_delta': {}, 'requested_auth_configs': {}}, 'id': 'i13v67P8', 'timestamp': 1750660266.007397}\n",
            "{'content': {'parts': [{'text': 'I rolled a 20-sided die and got a 15.\\n'}], 'role': 'model'}, 'invocation_id': 'e-39941ef4-6811-439b-8470-942171bd6b3d', 'author': 'data_processing_agent', 'actions': {'state_delta': {}, 'artifact_delta': {}, 'requested_auth_configs': {}}, 'id': 'G2Q0wGiL', 'timestamp': 1750660266.009057}\n"
          ]
        }
      ]
    },
    {
      "cell_type": "code",
      "source": [
        "agent_context = '{\"message\":{\"role\":\"user\",\"parts\":[{\"text\":\"How were you built?\"}]},\"events\":[{\"content\":{\"role\":\"user\",\"parts\":[{\"text\":\"how were you built ?\"}]},\"author\":\"AgentSpace_root_agent\"},{\"content\":{\"role\":\"model\",\"parts\":[{\"functionCall\":{\"name\":\"agentspaceak\",\"args\":{\"question\":\"How were you built?\"},\"id\":\"14076651604820872102\"}}]},\"author\":\"AgentSpace_root_agent\",\"id\":\"14076651604820872102\"}]}'\n",
        "\n",
        "for response in app.streaming_agent_run_with_events(agent_context):\n",
        "    print(response)"
      ],
      "metadata": {
        "colab": {
          "base_uri": "https://localhost:8080/"
        },
        "id": "05d3OCNCS-4i",
        "outputId": "e3c06375-f1bf-4fb0-dd8b-bef3b52ca3b5"
      },
      "execution_count": 14,
      "outputs": [
        {
          "output_type": "stream",
          "name": "stderr",
          "text": [
            "Event from an unknown agent: AgentSpace_root_agent, event id: 14076651604820872102\n",
            "Event from an unknown agent: AgentSpace_root_agent, event id: fyIpxGqF\n"
          ]
        },
        {
          "output_type": "stream",
          "name": "stdout",
          "text": [
            "{'events': [{'content': {'parts': [{'text': 'I am a large language model, trained by Google.'}], 'role': 'model'}, 'invocation_id': 'e-cde64ae0-1be9-4998-a960-c021ba37ae9c', 'author': 'data_processing_agent', 'actions': {'state_delta': {}, 'artifact_delta': {}, 'requested_auth_configs': {}}, 'id': 'huaW6sTG', 'timestamp': 1750660272.965518}]}\n"
          ]
        }
      ]
    },
    {
      "cell_type": "code",
      "source": [
        "agent_context = '{\"message\":{\"role\":\"user\",\"parts\":[{\"text\":\"How were you built?\"}]},\"events\":[{\"content\":{\"role\":\"user\",\"parts\":[{\"text\":\"how were you built ?\"}]},\"author\":\"AgentSpace_root_agent\"},{\"content\":{\"role\":\"model\",\"parts\":[{\"functionCall\":{\"name\":\"agentspaceak\",\"args\":{\"question\":\"How were you built?\"},\"id\":\"14076651604820872102\"}}]},\"author\":\"AgentSpace_root_agent\",\"id\":\"14076651604820872102\"}]}'\n",
        "\n",
        "for response in app.streaming_agent_run_with_events(agent_context):\n",
        "    for event in response.get(\"events\", []):\n",
        "        print(event)"
      ],
      "metadata": {
        "colab": {
          "base_uri": "https://localhost:8080/"
        },
        "id": "LU2l4NnzuJDN",
        "outputId": "bb2aaaac-06d5-44c4-f7a7-694773819c53"
      },
      "execution_count": 15,
      "outputs": [
        {
          "output_type": "stream",
          "name": "stderr",
          "text": [
            "Event from an unknown agent: AgentSpace_root_agent, event id: 14076651604820872102\n",
            "Event from an unknown agent: AgentSpace_root_agent, event id: 6AO9uvWn\n"
          ]
        },
        {
          "output_type": "stream",
          "name": "stdout",
          "text": [
            "{'content': {'parts': [{'text': 'I am a large language model, trained by Google.\\n'}], 'role': 'model'}, 'invocation_id': 'e-43dec373-8be1-4790-8946-671b80cafc7d', 'author': 'data_processing_agent', 'actions': {'state_delta': {}, 'artifact_delta': {}, 'requested_auth_configs': {}}, 'id': 'rfnzh3r2', 'timestamp': 1750660282.572782}\n"
          ]
        }
      ]
    },
    {
      "cell_type": "markdown",
      "source": [
        "You can navigate to https://pantheon.corp.google.com/traces/explorer;project=reasoning-engine-test-1 to view the traces for it (they might take some time to show up).\n",
        "* If you don't have the permissions to view them in Cloud Trace, please follow the instructions in https://cloud.google.com/trace/docs/finding-traces#before_you_begin to grant yourself permission to use Trace Explorer with the project."
      ],
      "metadata": {
        "id": "iUE7ygI6cfOk"
      }
    },
    {
      "cell_type": "markdown",
      "source": [
        "# Deploy to Vertex AI Agent Engine\n",
        "To call and manage ADK applications in production, deploy the `app` to Vertex AI Agent Engine."
      ],
      "metadata": {
        "id": "VijvAI4TZp8H"
      }
    },
    {
      "cell_type": "code",
      "source": [
        "remote_app = agent_engines.create(\n",
        "    app,\n",
        "    display_name='ae2_Jun25',\n",
        "    requirements=[\n",
        "        WHL_FILE,\n",
        "        \"google-cloud-aiplatform[agent_engines] @ git+https://github.com/googleapis/python-aiplatform.git@copybara_738852226\",\n",
        "        \"google-genai==1.20.0\"\n",
        "    ],\n",
        "    extra_packages=[\n",
        "        WHL_FILE,\n",
        "    ],\n",
        ")"
      ],
      "metadata": {
        "colab": {
          "base_uri": "https://localhost:8080/"
        },
        "id": "enNZwvEUXt6o",
        "outputId": "57d76021-28c0-44df-e763-d32185af6a8a"
      },
      "execution_count": 16,
      "outputs": [
        {
          "output_type": "stream",
          "name": "stderr",
          "text": [
            "INFO:vertexai.agent_engines:Identified the following requirements: {'google-cloud-aiplatform': '1.87.0', 'cloudpickle': '3.1.1'}\n",
            "WARNING:vertexai.agent_engines:Failed to parse constraint: google_adk-0.0.2.dev20250402+nightly743266262-py3-none-any.whl. Exception: Expected end or semicolon (after name and no valid version specifier)\n",
            "    google_adk-0.0.2.dev20250402+nightly743266262-py3-none-any.whl\n",
            "                                ^\n",
            "WARNING:vertexai.agent_engines:The following requirements are missing: {'cloudpickle'}\n",
            "INFO:vertexai.agent_engines:The following requirements are appended: {'cloudpickle==3.1.1'}\n",
            "INFO:vertexai.agent_engines:The final list of requirements: ['google_adk-0.0.2.dev20250402+nightly743266262-py3-none-any.whl', 'google-cloud-aiplatform[agent_engines] @ git+https://github.com/googleapis/python-aiplatform.git@copybara_738852226', 'google-genai==1.20.0', 'cloudpickle==3.1.1']\n",
            "INFO:vertexai.agent_engines:Using bucket for-agent-engine-may25\n",
            "INFO:vertexai.agent_engines:Wrote to gs://for-agent-engine-may25/agent_engine/agent_engine.pkl\n",
            "INFO:vertexai.agent_engines:Writing to gs://for-agent-engine-may25/agent_engine/requirements.txt\n",
            "INFO:vertexai.agent_engines:Creating in-memory tarfile of extra_packages\n",
            "INFO:vertexai.agent_engines:Writing to gs://for-agent-engine-may25/agent_engine/dependencies.tar.gz\n",
            "INFO:vertexai.agent_engines:Creating AgentEngine\n",
            "INFO:vertexai.agent_engines:Create AgentEngine backing LRO: projects/606459840212/locations/us-central1/reasoningEngines/7077239688645312512/operations/7580439809391329280\n",
            "INFO:vertexai.agent_engines:View progress and logs at https://console.cloud.google.com/logs/query?project=weizhong-project01\n",
            "INFO:vertexai.agent_engines:AgentEngine created. Resource name: projects/606459840212/locations/us-central1/reasoningEngines/7077239688645312512\n",
            "INFO:vertexai.agent_engines:To use this AgentEngine in another session:\n",
            "INFO:vertexai.agent_engines:agent_engine = vertexai.agent_engines.get('projects/606459840212/locations/us-central1/reasoningEngines/7077239688645312512')\n"
          ]
        }
      ]
    },
    {
      "cell_type": "markdown",
      "source": [
        "**Remark**: You can ignore the following warnings:\n",
        "* (i) `WARNING:vertexai.agent_engines:Failed to parse constraint: ` and\n",
        "* (ii) `WARNING:vertexai.agent_engines:The following requirements are missing: {'cloudpickle'}`\n",
        "\n",
        "We have auto-heal mechanisms to still reflect them in the final list of requirements: `INFO:vertexai.agent_engines:The final list of requirements`"
      ],
      "metadata": {
        "id": "eK4He7dV_g13"
      }
    },
    {
      "cell_type": "markdown",
      "source": [
        "**Remark**: The automatic provisioning of permissions for Vertex AI Sessions have not rolled out yet, so you'll have to follow https://cloud.google.com/vertex-ai/generative-ai/docs/agent-engine/set-up#service-agent in the meantime to grant \"Vertex AI User\" (`roles/aiplatform.user`) to the service account in your GCP project"
      ],
      "metadata": {
        "id": "bPuswSHLhF_Q"
      }
    },
    {
      "cell_type": "markdown",
      "source": [
        "## Let's try it (remotely)"
      ],
      "metadata": {
        "id": "1ItR7ekDraxK"
      }
    },
    {
      "cell_type": "code",
      "source": [
        "import pprint\n",
        "\n",
        "pprint.pprint(remote_app.operation_schemas())"
      ],
      "metadata": {
        "colab": {
          "base_uri": "https://localhost:8080/"
        },
        "id": "6lviXEuUlTkP",
        "outputId": "69b3d8a2-6357-4cf0-8cdb-2aad69fd1469"
      },
      "execution_count": 17,
      "outputs": [
        {
          "output_type": "stream",
          "name": "stdout",
          "text": [
            "[{'api_mode': '',\n",
            "  'description': 'Get a session for the given user.\\n'\n",
            "                 '\\n'\n",
            "                 '        Args:\\n'\n",
            "                 '            user_id (str):\\n'\n",
            "                 '                Required. The ID of the user.\\n'\n",
            "                 '            session_id (str):\\n'\n",
            "                 '                Required. The ID of the session.\\n'\n",
            "                 '            **kwargs (dict[str, Any]):\\n'\n",
            "                 '                Optional. Additional keyword arguments to '\n",
            "                 'pass to the\\n'\n",
            "                 '                session service.\\n'\n",
            "                 '\\n'\n",
            "                 '        Returns:\\n'\n",
            "                 '            Session: The session instance (if any). It '\n",
            "                 'returns None if the\\n'\n",
            "                 '            session is not found.\\n'\n",
            "                 '\\n'\n",
            "                 '        Raises:\\n'\n",
            "                 '            RuntimeError: If the session is not found.\\n'\n",
            "                 '        ',\n",
            "  'name': 'get_session',\n",
            "  'parameters': {'properties': {'session_id': {'type': 'string'},\n",
            "                                'user_id': {'type': 'string'}},\n",
            "                 'required': ['user_id', 'session_id'],\n",
            "                 'type': 'object'}},\n",
            " {'api_mode': '',\n",
            "  'description': 'List sessions for the given user.\\n'\n",
            "                 '\\n'\n",
            "                 '        Args:\\n'\n",
            "                 '            user_id (str):\\n'\n",
            "                 '                Required. The ID of the user.\\n'\n",
            "                 '            **kwargs (dict[str, Any]):\\n'\n",
            "                 '                Optional. Additional keyword arguments to '\n",
            "                 'pass to the\\n'\n",
            "                 '                session service.\\n'\n",
            "                 '\\n'\n",
            "                 '        Returns:\\n'\n",
            "                 '            ListSessionsResponse: The list of sessions.\\n'\n",
            "                 '        ',\n",
            "  'name': 'list_sessions',\n",
            "  'parameters': {'properties': {'user_id': {'type': 'string'}},\n",
            "                 'required': ['user_id'],\n",
            "                 'type': 'object'}},\n",
            " {'api_mode': '',\n",
            "  'description': 'Creates a new session.\\n'\n",
            "                 '\\n'\n",
            "                 '        Args:\\n'\n",
            "                 '            user_id (str):\\n'\n",
            "                 '                Required. The ID of the user.\\n'\n",
            "                 '            session_id (str):\\n'\n",
            "                 '                Optional. The ID of the session. If not '\n",
            "                 'provided, an ID\\n'\n",
            "                 '                will be be generated for the session.\\n'\n",
            "                 '            state (dict[str, Any]):\\n'\n",
            "                 '                Optional. The initial state of the session.\\n'\n",
            "                 '            **kwargs (dict[str, Any]):\\n'\n",
            "                 '                Optional. Additional keyword arguments to '\n",
            "                 'pass to the\\n'\n",
            "                 '                session service.\\n'\n",
            "                 '\\n'\n",
            "                 '        Returns:\\n'\n",
            "                 '            Session: The newly created session instance.\\n'\n",
            "                 '        ',\n",
            "  'name': 'create_session',\n",
            "  'parameters': {'properties': {'session_id': {'nullable': True,\n",
            "                                               'type': 'string'},\n",
            "                                'state': {'nullable': True, 'type': 'object'},\n",
            "                                'user_id': {'type': 'string'}},\n",
            "                 'required': ['user_id'],\n",
            "                 'type': 'object'}},\n",
            " {'api_mode': '',\n",
            "  'description': 'Deletes a session for the given user.\\n'\n",
            "                 '\\n'\n",
            "                 '        Args:\\n'\n",
            "                 '            user_id (str):\\n'\n",
            "                 '                Required. The ID of the user.\\n'\n",
            "                 '            session_id (str):\\n'\n",
            "                 '                Required. The ID of the session.\\n'\n",
            "                 '            **kwargs (dict[str, Any]):\\n'\n",
            "                 '                Optional. Additional keyword arguments to '\n",
            "                 'pass to the\\n'\n",
            "                 '                session service.\\n'\n",
            "                 '        ',\n",
            "  'name': 'delete_session',\n",
            "  'parameters': {'properties': {'session_id': {'type': 'string'},\n",
            "                                'user_id': {'type': 'string'}},\n",
            "                 'required': ['user_id', 'session_id'],\n",
            "                 'type': 'object'}},\n",
            " {'api_mode': 'stream',\n",
            "  'description': 'Streams responses from the ADK application in response to a '\n",
            "                 'message.\\n'\n",
            "                 '\\n'\n",
            "                 '        Args:\\n'\n",
            "                 '            message (str):\\n'\n",
            "                 '                Required. The message to stream responses '\n",
            "                 'for.\\n'\n",
            "                 '            user_id (str):\\n'\n",
            "                 '                Required. The ID of the user.\\n'\n",
            "                 '            session_id (str):\\n'\n",
            "                 '                Optional. The ID of the session. If not '\n",
            "                 'provided, a new\\n'\n",
            "                 '                session will be created for the user.\\n'\n",
            "                 '            **kwargs (dict[str, Any]):\\n'\n",
            "                 '                Optional. Additional keyword arguments to '\n",
            "                 'pass to the\\n'\n",
            "                 '                runner.\\n'\n",
            "                 '\\n'\n",
            "                 '        Yields:\\n'\n",
            "                 '            The output of querying the ADK application.\\n'\n",
            "                 '        ',\n",
            "  'name': 'stream_query',\n",
            "  'parameters': {'properties': {'message': {'type': 'string'},\n",
            "                                'session_id': {'nullable': True,\n",
            "                                               'type': 'string'},\n",
            "                                'user_id': {'type': 'string'}},\n",
            "                 'required': ['message', 'user_id'],\n",
            "                 'type': 'object'}},\n",
            " {'api_mode': 'stream',\n",
            "  'description': None,\n",
            "  'name': 'streaming_agent_run_with_events',\n",
            "  'parameters': {'properties': {'request_json': {'type': 'string'}},\n",
            "                 'required': ['request_json'],\n",
            "                 'type': 'object'}}]\n"
          ]
        }
      ]
    },
    {
      "cell_type": "code",
      "source": [
        "session = remote_app.create_session(user_id=\"wz\")\n",
        "session"
      ],
      "metadata": {
        "colab": {
          "base_uri": "https://localhost:8080/"
        },
        "id": "B9R4GKDkcY6C",
        "outputId": "e4931750-8675-49a1-9112-9268d43d029d"
      },
      "execution_count": 18,
      "outputs": [
        {
          "output_type": "execute_result",
          "data": {
            "text/plain": [
              "{'events': [],\n",
              " 'user_id': 'wz',\n",
              " 'state': {},\n",
              " 'id': '3468190077249650688',\n",
              " 'app_name': '7077239688645312512',\n",
              " 'last_update_time': 1750660639.994698}"
            ]
          },
          "metadata": {},
          "execution_count": 18
        }
      ]
    },
    {
      "cell_type": "code",
      "source": [
        "remote_app.list_sessions(user_id=\"wz\")"
      ],
      "metadata": {
        "colab": {
          "base_uri": "https://localhost:8080/"
        },
        "id": "zcFo8SUqca-i",
        "outputId": "97b902e4-ebce-426b-9787-6aade3cabae7"
      },
      "execution_count": 19,
      "outputs": [
        {
          "output_type": "execute_result",
          "data": {
            "text/plain": [
              "{'session_ids': ['3468190077249650688']}"
            ]
          },
          "metadata": {},
          "execution_count": 19
        }
      ]
    },
    {
      "cell_type": "code",
      "source": [
        "session = remote_app.get_session(user_id=\"wz\", session_id=session[\"id\"])\n",
        "session"
      ],
      "metadata": {
        "colab": {
          "base_uri": "https://localhost:8080/"
        },
        "id": "R2oa4YmVccoN",
        "outputId": "86a15c3c-73b9-4505-9311-2147c4cf8b39",
        "collapsed": true
      },
      "execution_count": 20,
      "outputs": [
        {
          "output_type": "execute_result",
          "data": {
            "text/plain": [
              "{'events': [],\n",
              " 'last_update_time': 1750660639.994698,\n",
              " 'state': {},\n",
              " 'id': '3468190077249650688',\n",
              " 'app_name': '7077239688645312512',\n",
              " 'user_id': 'wz'}"
            ]
          },
          "metadata": {},
          "execution_count": 20
        }
      ]
    },
    {
      "cell_type": "code",
      "source": [
        "for event in remote_app.stream_query(\n",
        "    user_id=\"wz\",\n",
        "    session_id=session[\"id\"],\n",
        "    message=\"roll a 20 sided die\",\n",
        "):\n",
        "    print(event)"
      ],
      "metadata": {
        "colab": {
          "base_uri": "https://localhost:8080/"
        },
        "outputId": "02fa626b-ed32-4cc3-a3c7-17316f1e9930",
        "id": "8gsV87JPt4IL"
      },
      "execution_count": 21,
      "outputs": [
        {
          "output_type": "stream",
          "name": "stdout",
          "text": [
            "{'content': {'parts': [{'function_call': {'id': 'af-55bb5c3b-d3b7-4eeb-b0ff-ccf470c61af8', 'args': {'sides': 20}, 'name': 'roll_die'}}], 'role': 'model'}, 'invocation_id': 'e-c354f5c4-a095-4080-9411-55c6d33fc5a1', 'author': 'data_processing_agent', 'actions': {'state_delta': {}, 'artifact_delta': {}, 'requested_auth_configs': {}}, 'long_running_tool_ids': [], 'id': '9maxs0OK', 'timestamp': 1750660664.174889}\n",
            "{'content': {'parts': [{'function_response': {'id': 'af-55bb5c3b-d3b7-4eeb-b0ff-ccf470c61af8', 'name': 'roll_die', 'response': {'result': 16}}}], 'role': 'user'}, 'invocation_id': 'e-c354f5c4-a095-4080-9411-55c6d33fc5a1', 'author': 'data_processing_agent', 'actions': {'state_delta': {}, 'artifact_delta': {}, 'requested_auth_configs': {}}, 'id': 'SVRlm20a', 'timestamp': 1750660664.848511}\n",
            "{'content': {'parts': [{'text': 'I rolled a 20-sided die and got a 16.\\n'}], 'role': 'model'}, 'invocation_id': 'e-c354f5c4-a095-4080-9411-55c6d33fc5a1', 'author': 'data_processing_agent', 'actions': {'state_delta': {}, 'artifact_delta': {}, 'requested_auth_configs': {}}, 'id': 'zIWzMrPt', 'timestamp': 1750660664.944039}\n"
          ]
        }
      ]
    },
    {
      "cell_type": "code",
      "source": [
        "for event in remote_app.stream_query(\n",
        "    user_id=\"wz\",\n",
        "    session_id=session[\"id\"],\n",
        "    message=\"One more time.\",\n",
        "):\n",
        "    print(event)"
      ],
      "metadata": {
        "id": "xvkFAipfgg5A",
        "outputId": "582557a5-ca16-4679-a124-11c50422adcb",
        "colab": {
          "base_uri": "https://localhost:8080/"
        }
      },
      "execution_count": 22,
      "outputs": [
        {
          "output_type": "stream",
          "name": "stdout",
          "text": [
            "{'content': {'parts': [{'function_call': {'id': 'af-8977a829-f35d-4160-b8ff-c3d47cf9c5ac', 'args': {'sides': 20}, 'name': 'roll_die'}}], 'role': 'model'}, 'invocation_id': 'e-127ecd13-467a-4835-b41c-bd7e37efbde8', 'author': 'data_processing_agent', 'actions': {'state_delta': {}, 'artifact_delta': {}, 'requested_auth_configs': {}}, 'long_running_tool_ids': [], 'id': '6LXCh4GA', 'timestamp': 1750660698.111266}\n",
            "{'content': {'parts': [{'function_response': {'id': 'af-8977a829-f35d-4160-b8ff-c3d47cf9c5ac', 'name': 'roll_die', 'response': {'result': 11}}}], 'role': 'user'}, 'invocation_id': 'e-127ecd13-467a-4835-b41c-bd7e37efbde8', 'author': 'data_processing_agent', 'actions': {'state_delta': {}, 'artifact_delta': {}, 'requested_auth_configs': {}}, 'id': 'mrfAqNaF', 'timestamp': 1750660698.636076}\n",
            "{'content': {'parts': [{'text': 'I rolled a 20-sided die and got an 11.\\n'}], 'role': 'model'}, 'invocation_id': 'e-127ecd13-467a-4835-b41c-bd7e37efbde8', 'author': 'data_processing_agent', 'actions': {'state_delta': {}, 'artifact_delta': {}, 'requested_auth_configs': {}}, 'id': '86P9fHSn', 'timestamp': 1750660698.7479}\n"
          ]
        }
      ]
    },
    {
      "cell_type": "code",
      "source": [
        "for event in remote_app.stream_query(\n",
        "    user_id=\"wz\",\n",
        "    session_id=session[\"id\"],\n",
        "    message=\"And again.\",\n",
        "):\n",
        "    print(event)"
      ],
      "metadata": {
        "id": "durAyTJngmJS",
        "outputId": "f04d9e8d-cb87-4c9f-c270-c617a4c621b7",
        "colab": {
          "base_uri": "https://localhost:8080/"
        }
      },
      "execution_count": 23,
      "outputs": [
        {
          "output_type": "stream",
          "name": "stdout",
          "text": [
            "{'content': {'parts': [{'function_call': {'id': 'af-abf7ecfa-7b24-42c9-85a2-49631661785a', 'args': {'sides': 20}, 'name': 'roll_die'}}], 'role': 'model'}, 'invocation_id': 'e-55de41ee-3e3d-4318-90b1-efa56f8e60d9', 'author': 'data_processing_agent', 'actions': {'state_delta': {}, 'artifact_delta': {}, 'requested_auth_configs': {}}, 'long_running_tool_ids': [], 'id': 'tx4OyUwE', 'timestamp': 1750660730.315948}\n",
            "{'content': {'parts': [{'function_response': {'id': 'af-abf7ecfa-7b24-42c9-85a2-49631661785a', 'name': 'roll_die', 'response': {'result': 11}}}], 'role': 'user'}, 'invocation_id': 'e-55de41ee-3e3d-4318-90b1-efa56f8e60d9', 'author': 'data_processing_agent', 'actions': {'state_delta': {}, 'artifact_delta': {}, 'requested_auth_configs': {}}, 'id': 'VfeI23Cx', 'timestamp': 1750660730.86297}\n",
            "{'content': {'parts': [{'text': \"I rolled a 20-sided die and got an 11. That's the second time we've rolled an 11 in a row!\\n\"}], 'role': 'model'}, 'invocation_id': 'e-55de41ee-3e3d-4318-90b1-efa56f8e60d9', 'author': 'data_processing_agent', 'actions': {'state_delta': {}, 'artifact_delta': {}, 'requested_auth_configs': {}}, 'id': 'l4VK0Zeb', 'timestamp': 1750660730.952503}\n"
          ]
        }
      ]
    },
    {
      "cell_type": "code",
      "source": [
        "for event in remote_app.stream_query(\n",
        "    user_id=\"wz\",\n",
        "    session_id=session[\"id\"],\n",
        "    message=\"What is the sum of all the previous rolls?\",\n",
        "):\n",
        "    print(event)"
      ],
      "metadata": {
        "id": "NrhJLnHJrhFZ",
        "colab": {
          "base_uri": "https://localhost:8080/"
        },
        "outputId": "c06be223-2162-46fc-d283-9542e2383ce4"
      },
      "execution_count": 24,
      "outputs": [
        {
          "output_type": "stream",
          "name": "stdout",
          "text": [
            "{'content': {'parts': [{'text': 'The previous rolls were 16, 11, and 11. The sum of these numbers is 38.\\n'}], 'role': 'model'}, 'invocation_id': 'e-36d78553-3947-4d8f-a04d-7a9da5496008', 'author': 'data_processing_agent', 'actions': {'state_delta': {}, 'artifact_delta': {}, 'requested_auth_configs': {}}, 'id': 'nJDYfsly', 'timestamp': 1750660746.872054}\n"
          ]
        }
      ]
    },
    {
      "cell_type": "code",
      "source": [
        "agent_context = '{\"message\":{\"role\":\"user\",\"parts\":[{\"text\":\"How were you built?\"}]},\"events\":[{\"content\":{\"role\":\"user\",\"parts\":[{\"text\":\"how were you built ?\"}]},\"author\":\"AgentSpace_root_agent\"},{\"content\":{\"role\":\"model\",\"parts\":[{\"functionCall\":{\"name\":\"agentspaceak\",\"args\":{\"question\":\"How were you built?\"},\"id\":\"14076651604820872102\"}}]},\"author\":\"AgentSpace_root_agent\",\"id\":\"14076651604820872102\"}]}'\n",
        "\n",
        "for event in remote_app.streaming_agent_run_with_events(request_json=agent_context):\n",
        "    print(event)"
      ],
      "metadata": {
        "colab": {
          "base_uri": "https://localhost:8080/"
        },
        "id": "l159w4T8tuvS",
        "outputId": "2b0d9c60-b1b1-4bb3-8b75-46ce85880f38"
      },
      "execution_count": 25,
      "outputs": [
        {
          "output_type": "stream",
          "name": "stdout",
          "text": [
            "{'events': [{'content': {'parts': [{'text': 'I am a large language model, trained by Google.'}], 'role': 'model'}, 'invocation_id': 'e-1d461560-9ea9-4eba-99d2-390fe7f84da1', 'author': 'data_processing_agent', 'actions': {'state_delta': {}, 'artifact_delta': {}, 'requested_auth_configs': {}}, 'id': 'xIYK69UN', 'timestamp': 1750660755.145939}]}\n"
          ]
        }
      ]
    },
    {
      "cell_type": "markdown",
      "source": [
        "# AgentSpace integration\n",
        "\n",
        "First, submit request to @krzysiekw with your GCP project number and Agentspace app URL\n",
        "https://docs.google.com/document/d/1aNIgYM_CphUY4ay8oTn3yxUtRSTcn-TSNYkH2jdlyFs\n",
        "\n",
        "Next, update config to link Agent to Agentspace:\n",
        "\n",
        "API reference\n",
        "\n",
        "* [AssistantService.UpdateAssistant](http://google3/google/cloud/discoveryengine/v1main/assistant_service.proto;l=559-560;rcl=742731234)\n",
        "* [UpdateAssistantRequest](http://google3/google/cloud/discoveryengine/v1main/assistant_service.proto;l=1774-1775;rcl=742731234)\n",
        "* [Assistant](http://google3/google/cloud/discoveryengine/v1main/assistant.proto;l=24;rcl=742731234)"
      ],
      "metadata": {
        "id": "jKGx9zFBsKw7"
      }
    },
    {
      "cell_type": "code",
      "source": [
        "%%bash\n",
        "export PROJECT_ID=\"weizhong-project01\" #@param {type:\"string\"}\n",
        "export PROJECT_NUMBER=\"606459840212\" #@param {type:\"string\"}\n",
        "export REASONING_ENGINE=\"projects/weizhong-project01/locations/us-central1/reasoningEngines/7077239688645312512\" #@param {type:\"string\"}\n",
        "export AGENT_DISPLAY_NAME=\"Dice rolling agent!\"\n",
        "export AGENT_DESCRIPTION=\"The agent can only answer how it was built.\"\n",
        "export AGENT_ID=\"agent\" #@param {type:\"string\"}\n",
        "export AS_APP=\"enterprise-search-17484208_1748420861365\" #@param {type:\"string\"}\n",
        "\n",
        "curl -X PATCH -H \"Authorization: Bearer $(gcloud auth print-access-token)\" \\\n",
        "-H \"Content-Type: application/json\" \\\n",
        "-H \"x-goog-user-project: ${PROJECT_ID}\" \\\n",
        "https://discoveryengine.googleapis.com/v1alpha/projects/${PROJECT_NUMBER}/locations/global/collections/default_collection/engines/${AS_APP}/assistants/default_assistant?updateMask=agent_configs -d '{\n",
        "    \"name\": \"projects/${PROJECT_NUMBER}/locations/global/collections/default_collection/engines/${AS_APP}/assistants/default_assistant\",\n",
        "    \"displayName\": \"Default Assistant\",\n",
        "    \"agentConfigs\": [{\n",
        "      \"displayName\": \"'\"${AGENT_DISPLAY_NAME}\"'\",\n",
        "      \"vertexAiSdkAgentConnectionInfo\": {\n",
        "        \"reasoningEngine\": \"'\"${REASONING_ENGINE}\"'\"\n",
        "      },\n",
        "      \"toolDescription\": \"'\"${AGENT_DESCRIPTION}\"'\",\n",
        "      \"icon\": {\n",
        "        \"uri\": \"https://fonts.gstatic.com/s/i/short-term/release/googlesymbols/corporate_fare/default/24px.svg\"\n",
        "      },\n",
        "      \"id\": \"'\"${AGENT_ID}\"'\"\n",
        "    }]\n",
        "  }'"
      ],
      "metadata": {
        "id": "NL1PaRWSsM7m",
        "colab": {
          "base_uri": "https://localhost:8080/"
        },
        "outputId": "f781a846-52a0-4451-da43-6e4a31556cb6"
      },
      "execution_count": 28,
      "outputs": [
        {
          "output_type": "stream",
          "name": "stdout",
          "text": [
            "{\n",
            "  \"name\": \"projects/606459840212/locations/global/collections/default_collection/engines/enterprise-search-17484208_1748420861365/assistants/default_assistant\",\n",
            "  \"displayName\": \"Default Assistant\",\n",
            "  \"agentConfigs\": [\n",
            "    {\n",
            "      \"displayName\": \"Dice rolling agent\",\n",
            "      \"vertexAiSdkAgentConnectionInfo\": {\n",
            "        \"reasoningEngine\": \"projects/weizhong-project01/locations/us-central1/reasoningEngines/7077239688645312512\"\n",
            "      },\n",
            "      \"toolDescription\": \"The agent can only answer how it was built.\",\n",
            "      \"icon\": {\n",
            "        \"uri\": \"https://fonts.gstatic.com/s/i/short-term/release/googlesymbols/corporate_fare/default/24px.svg\"\n",
            "      },\n",
            "      \"id\": \"agent\"\n",
            "    }\n",
            "  ]\n",
            "}\n"
          ]
        },
        {
          "output_type": "stream",
          "name": "stderr",
          "text": [
            "  % Total    % Received % Xferd  Average Speed   Time    Time     Time  Current\n",
            "                                 Dload  Upload   Total   Spent    Left  Speed\n",
            "\r  0     0    0     0    0     0      0      0 --:--:-- --:--:-- --:--:--     0\r100  1329    0   678  100   651   3867   3713 --:--:-- --:--:-- --:--:--  7594\n"
          ]
        }
      ]
    },
    {
      "cell_type": "markdown",
      "source": [
        "Finally, try the Agentspace UI:\n",
        "\n",
        "1. Open up the Agentspace app in GCP console\n",
        "2. From left menu, click `Integration`\n",
        "3. Open the URL provided\n",
        "4. From left menu, select the agent deployed"
      ],
      "metadata": {
        "id": "sNJWA-ifscep"
      }
    },
    {
      "cell_type": "markdown",
      "source": [
        "# Clean up"
      ],
      "metadata": {
        "id": "Q80NTTyGs939"
      }
    },
    {
      "cell_type": "code",
      "source": [
        "remote_app.delete(force=True)"
      ],
      "metadata": {
        "id": "GCel9M-YsdUr",
        "colab": {
          "base_uri": "https://localhost:8080/"
        },
        "outputId": "e8874853-adda-499b-e5e1-b269c59e4b3e"
      },
      "execution_count": null,
      "outputs": [
        {
          "output_type": "stream",
          "name": "stderr",
          "text": [
            "INFO:vertexai.agent_engines:Delete Agent Engine backing LRO: projects/349765473021/locations/us-central1/operations/952030937686736896\n",
            "INFO:vertexai.agent_engines:Agent Engine deleted. Resource name: projects/349765473021/locations/us-central1/reasoningEngines/1684495794217943040\n"
          ]
        }
      ]
    },
    {
      "cell_type": "code",
      "source": [],
      "metadata": {
        "id": "mqoFIQxqED_V"
      },
      "execution_count": null,
      "outputs": []
    }
  ]
}