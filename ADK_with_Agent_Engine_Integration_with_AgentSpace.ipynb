{
  "nbformat": 4,
  "nbformat_minor": 0,
  "metadata": {
    "colab": {
      "provenance": [],
      "include_colab_link": true
    },
    "kernelspec": {
      "name": "python3",
      "display_name": "Python 3"
    },
    "language_info": {
      "name": "python"
    }
  },
  "cells": [
    {
      "cell_type": "markdown",
      "metadata": {
        "id": "view-in-github",
        "colab_type": "text"
      },
      "source": [
        "<a href=\"https://colab.research.google.com/github/tohweizhong/agentic-demos/blob/main/ADK_with_Agent_Engine_Integration_with_AgentSpace.ipynb\" target=\"_parent\"><img src=\"https://colab.research.google.com/assets/colab-badge.svg\" alt=\"Open In Colab\"/></a>"
      ]
    },
    {
      "cell_type": "code",
      "source": [
        "# Copyright 2024 Google LLC\n",
        "#\n",
        "# Licensed under the Apache License, Version 2.0 (the \"License\");\n",
        "# you may not use this file except in compliance with the License.\n",
        "# You may obtain a copy of the License at\n",
        "#\n",
        "#     https://www.apache.org/licenses/LICENSE-2.0\n",
        "#\n",
        "# Unless required by applicable law or agreed to in writing, software\n",
        "# distributed under the License is distributed on an \"AS IS\" BASIS,\n",
        "# WITHOUT WARRANTIES OR CONDITIONS OF ANY KIND, either express or implied.\n",
        "# See the License for the specific language governing permissions and\n",
        "# limitations under the License."
      ],
      "metadata": {
        "id": "4KG8heslwNdJ"
      },
      "execution_count": 1,
      "outputs": []
    },
    {
      "cell_type": "markdown",
      "source": [
        "#Note\n",
        "This notebook is not shared with external developers. If you're looking for the notebook shared with external developers, it is here: https://colab.sandbox.google.com/drive/1FKrU9bqJzXQNrnhvXeW6Isp9yxPNmsDC?resourcekey=0-evXn6PctfoF1-jC1CJmgGw\n",
        "\n",
        "If you have any issues or feature requests, please feel free to comment in https://b.corp.google.com/issues/404890021\n",
        "\n",
        "Orcas RFC: http://go/orcas-rfc-58"
      ],
      "metadata": {
        "id": "3LxJA5mwEjWC"
      }
    },
    {
      "cell_type": "markdown",
      "source": [
        "# Use the ADK to define an agent and deploy it to Vertex AI Agent Engine\n",
        "This notebook shows how to use the Agent Framework to define a simple, hello world, agent for a dice rolling game. Then, we deploy the defined agent to the Vertex AI Agent Engine to call and manage the agent in production. In this notebook you will learn how to do the following:\n",
        "\n",
        "*  Install Agent Framework\n",
        "*  Define functions as tools\n",
        "*  Create a \"Hello World\" agent using the Agent Framework\n",
        "*  Deploy the agent on Vertex AI Agent Engine\n",
        "*  Call the Agent Engine to manage and interact with the agent\n"
      ],
      "metadata": {
        "id": "3OqG2k_o_zmb"
      }
    },
    {
      "cell_type": "markdown",
      "source": [
        "# Authenticate\n",
        "You need this to download the SDK from GCS"
      ],
      "metadata": {
        "id": "lz5Yy_jXH-Ur"
      }
    },
    {
      "cell_type": "code",
      "execution_count": 2,
      "metadata": {
        "id": "chT-5K9yrrW9"
      },
      "outputs": [],
      "source": [
        "from google.colab import auth\n",
        "auth.authenticate_user()\n",
        "\n",
        "RELEASE_VERSION='google_adk-0.0.2.dev20250402+nightly743266262'\n",
        "WHL_FILE = f\"{RELEASE_VERSION}-py3-none-any.whl\""
      ]
    },
    {
      "cell_type": "markdown",
      "source": [
        "# Download and install the ADK and Agent Engine SDK\n",
        "\n",
        "Download `.whl` file from the shared GCS bucket:"
      ],
      "metadata": {
        "id": "E29jokLY8VRH"
      }
    },
    {
      "cell_type": "code",
      "source": [
        "FOLDER = \"gs://agent_framework/history/\"\n",
        "\n",
        "!gsutil cp {FOLDER}{WHL_FILE} .\n",
        "!pip3 install google_adk-0.0.2.dev*.whl --ignore-requires-python --quiet ## for the google-adk in private preview\n",
        "!pip3 install \"google-cloud-aiplatform[agent_engines] @ git+https://github.com/googleapis/python-aiplatform.git@copybara_738852226\" --force-reinstall --quiet ## for the prebuilt template"
      ],
      "metadata": {
        "colab": {
          "base_uri": "https://localhost:8080/"
        },
        "collapsed": true,
        "id": "kbOr_nWeYa9g",
        "outputId": "24025e0c-4cfd-4b65-df78-332c630d306a"
      },
      "execution_count": 3,
      "outputs": [
        {
          "output_type": "stream",
          "name": "stdout",
          "text": [
            "Copying gs://agent_framework/history/google_adk-0.0.2.dev20250402+nightly743266262-py3-none-any.whl...\n",
            "/ [0 files][    0.0 B/551.3 KiB]                                                \r/ [1 files][551.3 KiB/551.3 KiB]                                                \r\n",
            "Operation completed over 1 objects/551.3 KiB.                                    \n",
            "\u001b[2K     \u001b[90m━━━━━━━━━━━━━━━━━━━━━━━━━━━━━━━━━━━━━━━━\u001b[0m \u001b[32m44.3/44.3 kB\u001b[0m \u001b[31m2.7 MB/s\u001b[0m eta \u001b[36m0:00:00\u001b[0m\n",
            "\u001b[2K   \u001b[90m━━━━━━━━━━━━━━━━━━━━━━━━━━━━━━━━━━━━━━━━\u001b[0m \u001b[32m240.0/240.0 kB\u001b[0m \u001b[31m12.2 MB/s\u001b[0m eta \u001b[36m0:00:00\u001b[0m\n",
            "\u001b[2K   \u001b[90m━━━━━━━━━━━━━━━━━━━━━━━━━━━━━━━━━━━━━━━━\u001b[0m \u001b[32m130.2/130.2 kB\u001b[0m \u001b[31m9.0 MB/s\u001b[0m eta \u001b[36m0:00:00\u001b[0m\n",
            "\u001b[2K   \u001b[90m━━━━━━━━━━━━━━━━━━━━━━━━━━━━━━━━━━━━━━━━\u001b[0m \u001b[32m65.8/65.8 kB\u001b[0m \u001b[31m5.1 MB/s\u001b[0m eta \u001b[36m0:00:00\u001b[0m\n",
            "\u001b[2K   \u001b[90m━━━━━━━━━━━━━━━━━━━━━━━━━━━━━━━━━━━━━━━━\u001b[0m \u001b[32m118.5/118.5 kB\u001b[0m \u001b[31m10.1 MB/s\u001b[0m eta \u001b[36m0:00:00\u001b[0m\n",
            "\u001b[2K   \u001b[90m━━━━━━━━━━━━━━━━━━━━━━━━━━━━━━━━━━━━━━━━\u001b[0m \u001b[32m196.2/196.2 kB\u001b[0m \u001b[31m14.1 MB/s\u001b[0m eta \u001b[36m0:00:00\u001b[0m\n",
            "\u001b[2K   \u001b[90m━━━━━━━━━━━━━━━━━━━━━━━━━━━━━━━━━━━━━━━━\u001b[0m \u001b[32m41.0/41.0 kB\u001b[0m \u001b[31m2.7 MB/s\u001b[0m eta \u001b[36m0:00:00\u001b[0m\n",
            "\u001b[2K   \u001b[90m━━━━━━━━━━━━━━━━━━━━━━━━━━━━━━━━━━━━━━━━\u001b[0m \u001b[32m10.1/10.1 MB\u001b[0m \u001b[31m83.5 MB/s\u001b[0m eta \u001b[36m0:00:00\u001b[0m\n",
            "\u001b[2K   \u001b[90m━━━━━━━━━━━━━━━━━━━━━━━━━━━━━━━━━━━━━━━━\u001b[0m \u001b[32m103.8/103.8 kB\u001b[0m \u001b[31m6.4 MB/s\u001b[0m eta \u001b[36m0:00:00\u001b[0m\n",
            "\u001b[2K   \u001b[90m━━━━━━━━━━━━━━━━━━━━━━━━━━━━━━━━━━━━━━━━\u001b[0m \u001b[32m7.6/7.6 MB\u001b[0m \u001b[31m84.2 MB/s\u001b[0m eta \u001b[36m0:00:00\u001b[0m\n",
            "\u001b[2K   \u001b[90m━━━━━━━━━━━━━━━━━━━━━━━━━━━━━━━━━━━━━━━━\u001b[0m \u001b[32m45.2/45.2 kB\u001b[0m \u001b[31m3.0 MB/s\u001b[0m eta \u001b[36m0:00:00\u001b[0m\n",
            "\u001b[2K   \u001b[90m━━━━━━━━━━━━━━━━━━━━━━━━━━━━━━━━━━━━━━━━\u001b[0m \u001b[32m6.9/6.9 MB\u001b[0m \u001b[31m68.5 MB/s\u001b[0m eta \u001b[36m0:00:00\u001b[0m\n",
            "\u001b[2K   \u001b[90m━━━━━━━━━━━━━━━━━━━━━━━━━━━━━━━━━━━━━━━━\u001b[0m \u001b[32m304.6/304.6 kB\u001b[0m \u001b[31m17.9 MB/s\u001b[0m eta \u001b[36m0:00:00\u001b[0m\n",
            "\u001b[2K   \u001b[90m━━━━━━━━━━━━━━━━━━━━━━━━━━━━━━━━━━━━━━━━\u001b[0m \u001b[32m79.1/79.1 kB\u001b[0m \u001b[31m6.9 MB/s\u001b[0m eta \u001b[36m0:00:00\u001b[0m\n",
            "\u001b[2K   \u001b[90m━━━━━━━━━━━━━━━━━━━━━━━━━━━━━━━━━━━━━━━━\u001b[0m \u001b[32m1.2/1.2 MB\u001b[0m \u001b[31m41.8 MB/s\u001b[0m eta \u001b[36m0:00:00\u001b[0m\n",
            "\u001b[2K   \u001b[90m━━━━━━━━━━━━━━━━━━━━━━━━━━━━━━━━━━━━━━━━\u001b[0m \u001b[32m50.9/50.9 kB\u001b[0m \u001b[31m3.4 MB/s\u001b[0m eta \u001b[36m0:00:00\u001b[0m\n",
            "\u001b[2K   \u001b[90m━━━━━━━━━━━━━━━━━━━━━━━━━━━━━━━━━━━━━━━━\u001b[0m \u001b[32m129.3/129.3 kB\u001b[0m \u001b[31m9.7 MB/s\u001b[0m eta \u001b[36m0:00:00\u001b[0m\n",
            "\u001b[?25h\u001b[31mERROR: pip's dependency resolver does not currently take into account all the packages that are installed. This behaviour is the source of the following dependency conflicts.\n",
            "ipython 7.34.0 requires jedi>=0.16, which is not installed.\u001b[0m\u001b[31m\n",
            "\u001b[0m  Preparing metadata (setup.py) ... \u001b[?25l\u001b[?25hdone\n",
            "\u001b[2K     \u001b[90m━━━━━━━━━━━━━━━━━━━━━━━━━━━━━━━━━━━━━━━━\u001b[0m \u001b[32m68.0/68.0 kB\u001b[0m \u001b[31m3.0 MB/s\u001b[0m eta \u001b[36m0:00:00\u001b[0m\n",
            "\u001b[2K     \u001b[90m━━━━━━━━━━━━━━━━━━━━━━━━━━━━━━━━━━━━━━━━\u001b[0m \u001b[32m62.1/62.1 kB\u001b[0m \u001b[31m4.4 MB/s\u001b[0m eta \u001b[36m0:00:00\u001b[0m\n",
            "\u001b[2K   \u001b[90m━━━━━━━━━━━━━━━━━━━━━━━━━━━━━━━━━━━━━━━━\u001b[0m \u001b[32m160.8/160.8 kB\u001b[0m \u001b[31m8.1 MB/s\u001b[0m eta \u001b[36m0:00:00\u001b[0m\n",
            "\u001b[2K   \u001b[90m━━━━━━━━━━━━━━━━━━━━━━━━━━━━━━━━━━━━━━━━\u001b[0m \u001b[32m216.1/216.1 kB\u001b[0m \u001b[31m17.9 MB/s\u001b[0m eta \u001b[36m0:00:00\u001b[0m\n",
            "\u001b[2K   \u001b[90m━━━━━━━━━━━━━━━━━━━━━━━━━━━━━━━━━━━━━━━━\u001b[0m \u001b[32m253.6/253.6 kB\u001b[0m \u001b[31m20.4 MB/s\u001b[0m eta \u001b[36m0:00:00\u001b[0m\n",
            "\u001b[2K   \u001b[90m━━━━━━━━━━━━━━━━━━━━━━━━━━━━━━━━━━━━━━━━\u001b[0m \u001b[32m229.5/229.5 kB\u001b[0m \u001b[31m17.5 MB/s\u001b[0m eta \u001b[36m0:00:00\u001b[0m\n",
            "\u001b[2K   \u001b[90m━━━━━━━━━━━━━━━━━━━━━━━━━━━━━━━━━━━━━━━━\u001b[0m \u001b[32m394.3/394.3 kB\u001b[0m \u001b[31m28.9 MB/s\u001b[0m eta \u001b[36m0:00:00\u001b[0m\n",
            "\u001b[2K   \u001b[90m━━━━━━━━━━━━━━━━━━━━━━━━━━━━━━━━━━━━━━━━\u001b[0m \u001b[32m131.8/131.8 kB\u001b[0m \u001b[31m9.3 MB/s\u001b[0m eta \u001b[36m0:00:00\u001b[0m\n",
            "\u001b[2K   \u001b[90m━━━━━━━━━━━━━━━━━━━━━━━━━━━━━━━━━━━━━━━━\u001b[0m \u001b[32m66.5/66.5 kB\u001b[0m \u001b[31m5.4 MB/s\u001b[0m eta \u001b[36m0:00:00\u001b[0m\n",
            "\u001b[2K   \u001b[90m━━━━━━━━━━━━━━━━━━━━━━━━━━━━━━━━━━━━━━━━\u001b[0m \u001b[32m50.2/50.2 kB\u001b[0m \u001b[31m3.8 MB/s\u001b[0m eta \u001b[36m0:00:00\u001b[0m\n",
            "\u001b[2K   \u001b[90m━━━━━━━━━━━━━━━━━━━━━━━━━━━━━━━━━━━━━━━━\u001b[0m \u001b[32m319.9/319.9 kB\u001b[0m \u001b[31m24.2 MB/s\u001b[0m eta \u001b[36m0:00:00\u001b[0m\n",
            "\u001b[2K   \u001b[90m━━━━━━━━━━━━━━━━━━━━━━━━━━━━━━━━━━━━━━━━\u001b[0m \u001b[32m444.8/444.8 kB\u001b[0m \u001b[31m27.3 MB/s\u001b[0m eta \u001b[36m0:00:00\u001b[0m\n",
            "\u001b[2K   \u001b[90m━━━━━━━━━━━━━━━━━━━━━━━━━━━━━━━━━━━━━━━━\u001b[0m \u001b[32m2.0/2.0 MB\u001b[0m \u001b[31m60.9 MB/s\u001b[0m eta \u001b[36m0:00:00\u001b[0m\n",
            "\u001b[2K   \u001b[90m━━━━━━━━━━━━━━━━━━━━━━━━━━━━━━━━━━━━━━━━\u001b[0m \u001b[32m3.1/3.1 MB\u001b[0m \u001b[31m85.9 MB/s\u001b[0m eta \u001b[36m0:00:00\u001b[0m\n",
            "\u001b[2K   \u001b[90m━━━━━━━━━━━━━━━━━━━━━━━━━━━━━━━━━━━━━━━━\u001b[0m \u001b[32m43.8/43.8 kB\u001b[0m \u001b[31m3.5 MB/s\u001b[0m eta \u001b[36m0:00:00\u001b[0m\n",
            "\u001b[2K   \u001b[90m━━━━━━━━━━━━━━━━━━━━━━━━━━━━━━━━━━━━━━━━\u001b[0m \u001b[32m81.3/81.3 kB\u001b[0m \u001b[31m6.6 MB/s\u001b[0m eta \u001b[36m0:00:00\u001b[0m\n",
            "\u001b[2K   \u001b[90m━━━━━━━━━━━━━━━━━━━━━━━━━━━━━━━━━━━━━━━━\u001b[0m \u001b[32m294.5/294.5 kB\u001b[0m \u001b[31m23.8 MB/s\u001b[0m eta \u001b[36m0:00:00\u001b[0m\n",
            "\u001b[2K   \u001b[90m━━━━━━━━━━━━━━━━━━━━━━━━━━━━━━━━━━━━━━━━\u001b[0m \u001b[32m6.0/6.0 MB\u001b[0m \u001b[31m83.1 MB/s\u001b[0m eta \u001b[36m0:00:00\u001b[0m\n",
            "\u001b[2K   \u001b[90m━━━━━━━━━━━━━━━━━━━━━━━━━━━━━━━━━━━━━━━━\u001b[0m \u001b[32m16.9/16.9 MB\u001b[0m \u001b[31m92.5 MB/s\u001b[0m eta \u001b[36m0:00:00\u001b[0m\n",
            "\u001b[2K   \u001b[90m━━━━━━━━━━━━━━━━━━━━━━━━━━━━━━━━━━━━━━━━\u001b[0m \u001b[32m181.3/181.3 kB\u001b[0m \u001b[31m13.9 MB/s\u001b[0m eta \u001b[36m0:00:00\u001b[0m\n",
            "\u001b[2K   \u001b[90m━━━━━━━━━━━━━━━━━━━━━━━━━━━━━━━━━━━━━━━━\u001b[0m \u001b[32m229.9/229.9 kB\u001b[0m \u001b[31m15.8 MB/s\u001b[0m eta \u001b[36m0:00:00\u001b[0m\n",
            "\u001b[2K   \u001b[90m━━━━━━━━━━━━━━━━━━━━━━━━━━━━━━━━━━━━━━━━\u001b[0m \u001b[32m64.8/64.8 kB\u001b[0m \u001b[31m4.8 MB/s\u001b[0m eta \u001b[36m0:00:00\u001b[0m\n",
            "\u001b[2K   \u001b[90m━━━━━━━━━━━━━━━━━━━━━━━━━━━━━━━━━━━━━━━━\u001b[0m \u001b[32m157.7/157.7 kB\u001b[0m \u001b[31m11.4 MB/s\u001b[0m eta \u001b[36m0:00:00\u001b[0m\n",
            "\u001b[2K   \u001b[90m━━━━━━━━━━━━━━━━━━━━━━━━━━━━━━━━━━━━━━━━\u001b[0m \u001b[32m147.3/147.3 kB\u001b[0m \u001b[31m10.8 MB/s\u001b[0m eta \u001b[36m0:00:00\u001b[0m\n",
            "\u001b[2K   \u001b[90m━━━━━━━━━━━━━━━━━━━━━━━━━━━━━━━━━━━━━━━━\u001b[0m \u001b[32m70.4/70.4 kB\u001b[0m \u001b[31m5.9 MB/s\u001b[0m eta \u001b[36m0:00:00\u001b[0m\n",
            "\u001b[2K   \u001b[90m━━━━━━━━━━━━━━━━━━━━━━━━━━━━━━━━━━━━━━━━\u001b[0m \u001b[32m83.1/83.1 kB\u001b[0m \u001b[31m7.1 MB/s\u001b[0m eta \u001b[36m0:00:00\u001b[0m\n",
            "\u001b[2K   \u001b[90m━━━━━━━━━━━━━━━━━━━━━━━━━━━━━━━━━━━━━━━━\u001b[0m \u001b[32m129.8/129.8 kB\u001b[0m \u001b[31m10.7 MB/s\u001b[0m eta \u001b[36m0:00:00\u001b[0m\n",
            "\u001b[?25h  Building wheel for google-cloud-aiplatform (setup.py) ... \u001b[?25l\u001b[?25hdone\n",
            "\u001b[31mERROR: pip's dependency resolver does not currently take into account all the packages that are installed. This behaviour is the source of the following dependency conflicts.\n",
            "google-colab 1.0.0 requires google-auth==2.38.0, but you have google-auth 2.40.3 which is incompatible.\n",
            "google-colab 1.0.0 requires requests==2.32.3, but you have requests 2.32.4 which is incompatible.\n",
            "langchain-core 0.3.66 requires packaging<25,>=23.2, but you have packaging 25.0 which is incompatible.\n",
            "numba 0.60.0 requires numpy<2.1,>=1.22, but you have numpy 2.3.1 which is incompatible.\n",
            "torch 2.6.0+cu124 requires nvidia-cublas-cu12==12.4.5.8; platform_system == \"Linux\" and platform_machine == \"x86_64\", but you have nvidia-cublas-cu12 12.5.3.2 which is incompatible.\n",
            "torch 2.6.0+cu124 requires nvidia-cuda-cupti-cu12==12.4.127; platform_system == \"Linux\" and platform_machine == \"x86_64\", but you have nvidia-cuda-cupti-cu12 12.5.82 which is incompatible.\n",
            "torch 2.6.0+cu124 requires nvidia-cuda-nvrtc-cu12==12.4.127; platform_system == \"Linux\" and platform_machine == \"x86_64\", but you have nvidia-cuda-nvrtc-cu12 12.5.82 which is incompatible.\n",
            "torch 2.6.0+cu124 requires nvidia-cuda-runtime-cu12==12.4.127; platform_system == \"Linux\" and platform_machine == \"x86_64\", but you have nvidia-cuda-runtime-cu12 12.5.82 which is incompatible.\n",
            "torch 2.6.0+cu124 requires nvidia-cudnn-cu12==9.1.0.70; platform_system == \"Linux\" and platform_machine == \"x86_64\", but you have nvidia-cudnn-cu12 9.3.0.75 which is incompatible.\n",
            "torch 2.6.0+cu124 requires nvidia-cufft-cu12==11.2.1.3; platform_system == \"Linux\" and platform_machine == \"x86_64\", but you have nvidia-cufft-cu12 11.2.3.61 which is incompatible.\n",
            "torch 2.6.0+cu124 requires nvidia-curand-cu12==10.3.5.147; platform_system == \"Linux\" and platform_machine == \"x86_64\", but you have nvidia-curand-cu12 10.3.6.82 which is incompatible.\n",
            "torch 2.6.0+cu124 requires nvidia-cusolver-cu12==11.6.1.9; platform_system == \"Linux\" and platform_machine == \"x86_64\", but you have nvidia-cusolver-cu12 11.6.3.83 which is incompatible.\n",
            "torch 2.6.0+cu124 requires nvidia-cusparse-cu12==12.3.1.170; platform_system == \"Linux\" and platform_machine == \"x86_64\", but you have nvidia-cusparse-cu12 12.5.1.3 which is incompatible.\n",
            "torch 2.6.0+cu124 requires nvidia-nvjitlink-cu12==12.4.127; platform_system == \"Linux\" and platform_machine == \"x86_64\", but you have nvidia-nvjitlink-cu12 12.5.82 which is incompatible.\n",
            "tensorflow 2.18.0 requires numpy<2.1.0,>=1.26.0, but you have numpy 2.3.1 which is incompatible.\n",
            "cupy-cuda12x 13.3.0 requires numpy<2.3,>=1.22, but you have numpy 2.3.1 which is incompatible.\u001b[0m\u001b[31m\n",
            "\u001b[0m"
          ]
        }
      ]
    },
    {
      "cell_type": "markdown",
      "source": [
        "# Initialization"
      ],
      "metadata": {
        "id": "osm6MztSEX2y"
      }
    },
    {
      "cell_type": "code",
      "source": [
        "import vertexai\n",
        "from vertexai import agent_engines\n",
        "\n",
        "PROJECT_ID = \"weizhong-project01\" #@param {type:\"string\"}\n",
        "LOCATION = \"us-central1\" #@param {type:\"string\"}\n",
        "STAGING_BUCKET = \"gs://for-agent-engine-may25\" #@param {type:\"string\"}\n",
        "\n",
        "vertexai.init(\n",
        "    project=PROJECT_ID,\n",
        "    location=LOCATION,\n",
        "    staging_bucket=STAGING_BUCKET,\n",
        ")"
      ],
      "metadata": {
        "id": "eHqvFbvjyRUG"
      },
      "execution_count": 4,
      "outputs": []
    },
    {
      "cell_type": "markdown",
      "source": [
        "# Defining functions\n",
        "roll_die - rolls dice to create random number\n",
        "\n",
        "check_prime - checks if a number is prime"
      ],
      "metadata": {
        "id": "1-rAplcsx22u"
      }
    },
    {
      "cell_type": "code",
      "source": [
        "def roll_die(sides: int) -> int:\n",
        "  \"\"\"Roll a die and return the rolled result.\n",
        "\n",
        "  Args:\n",
        "    sides: The integer number of sides the die has.\n",
        "\n",
        "  Returns:\n",
        "    An integer of the result of rolling the die.\n",
        "  \"\"\"\n",
        "  import random\n",
        "\n",
        "  return random.randint(1, sides)"
      ],
      "metadata": {
        "id": "l1G9gtSDw8yt"
      },
      "execution_count": 5,
      "outputs": []
    },
    {
      "cell_type": "code",
      "source": [
        "def check_prime(nums: list[int]) -> list[str]:\n",
        "  \"\"\"Check if a given list of numbers are prime.\n",
        "\n",
        "  Args:\n",
        "    nums: The list of numbers to check.\n",
        "\n",
        "  Returns:\n",
        "    A str indicating which number is prime.\n",
        "  \"\"\"\n",
        "\n",
        "  primes = set()\n",
        "  for number in nums:\n",
        "    number = int(number)\n",
        "    if number <= 1:\n",
        "      continue\n",
        "    is_prime = True\n",
        "    for i in range(2, int(number**0.5) + 1):\n",
        "      if number % i == 0:\n",
        "        is_prime = False\n",
        "        break\n",
        "    if is_prime:\n",
        "      primes.add(number)\n",
        "  return (\n",
        "      'No prime numbers found.'\n",
        "      if not primes\n",
        "      else f\"{', '.join(str(num) for num in primes)} are prime numbers.\"\n",
        "  )"
      ],
      "metadata": {
        "id": "X4buHPVnxA1P"
      },
      "execution_count": 6,
      "outputs": []
    },
    {
      "cell_type": "markdown",
      "source": [
        "# Define an agent in the agent framework\n",
        "\n",
        "An AI agent reasons, plans, and takes actions. The agent takes actions via access to **tools**, deciding how and when to invoke a tool. The agent also manages orchestration, creating a plan for answering a user query and adapting to responses that aren't quite correct.\n",
        "\n",
        "Create a simple agent. An agent requires two things: a display name and a set of instructions. The instructions should be detailed, making it clear exactly how the agent should behave.\n",
        "\n"
      ],
      "metadata": {
        "id": "meW7SNrTyCgn"
      }
    },
    {
      "cell_type": "code",
      "source": [
        "from google.adk.agents import Agent\n",
        "from vertexai.preview.reasoning_engines import AdkApp\n",
        "\n",
        "agent = Agent(\n",
        "    model=\"gemini-2.0-flash\",\n",
        "    name='data_processing_agent',\n",
        "    instruction=\"\"\"\n",
        "      You roll dice and answer questions about the outcome of the dice rolls.\n",
        "      You can roll dice of different sizes.\n",
        "      You can use multiple tools in parallel by calling functions in parallel(in one request and in one round).\n",
        "      The only things you do are roll dice for the user and discuss the outcomes.\n",
        "      It is ok to discuss previous dice roles, and comment on the dice rolls.\n",
        "      When you are asked to roll a die, you must call the roll_die tool with the number of sides. Be sure to pass in an integer. Do not pass in a string.\n",
        "      You should never roll a die on your own.\n",
        "      When checking prime numbers, call the check_prime tool with a list of integers. Be sure to pass in a list of integers. You should never pass in a string.\n",
        "      You should not check prime numbers before calling the tool.\n",
        "      When you are asked to roll a die and check prime numbers, you should always make the following two function calls:\n",
        "      1. You should first call the roll_die tool to get a roll. Wait for the function response before calling the check_prime tool.\n",
        "      2. After you get the function response from roll_die tool, you should call the check_prime tool with the roll_die result.\n",
        "        2.1 If user asks you to check primes based on previous rolls, make sure you include the previous rolls in the list.\n",
        "      3. When you respond, you must include the roll_die result from step 1.\n",
        "      You should always perform the previous 3 steps when asking for a roll and checking prime numbers.\n",
        "      You should not rely on the previous history on prime results.\n",
        "    \"\"\",\n",
        "    tools=[roll_die, check_prime],\n",
        ")\n",
        "\n",
        "app = AdkApp(\n",
        "    agent=agent,\n",
        "    enable_tracing=True,\n",
        "    )\n",
        "\n",
        "app"
      ],
      "metadata": {
        "colab": {
          "base_uri": "https://localhost:8080/"
        },
        "id": "qgSJyIHvyWWY",
        "outputId": "995a3568-adf7-4160-fc6e-0064e40c7190"
      },
      "execution_count": 7,
      "outputs": [
        {
          "output_type": "execute_result",
          "data": {
            "text/plain": [
              "<vertexai.preview.reasoning_engines.templates.adk.AdkApp at 0x7f8a9c512150>"
            ]
          },
          "metadata": {},
          "execution_count": 7
        }
      ]
    },
    {
      "cell_type": "markdown",
      "source": [
        "## Let's try it (locally)\n",
        "\n",
        "Under the hood, `app: ADKApp` will be using an in-memory session store when running locally.\n",
        "\n",
        "**Remark**: the operations below (i.e., `.create_session`, `.list_sessions`, `.get_session`, `.stream_query`) are only supported by the `agent_engines.ADKApp` class, not the `google.adk.agents.Agent` class."
      ],
      "metadata": {
        "id": "4yRbuebi-Zh6"
      }
    },
    {
      "cell_type": "code",
      "source": [
        "session = app.create_session(user_id=\"wz\")\n",
        "session"
      ],
      "metadata": {
        "colab": {
          "base_uri": "https://localhost:8080/"
        },
        "id": "Zkymo9fmyWY_",
        "outputId": "0305d19d-796f-4685-9c46-685959f6f5c6"
      },
      "execution_count": 8,
      "outputs": [
        {
          "output_type": "execute_result",
          "data": {
            "text/plain": [
              "Session(id='a9cd8f43-06fc-44a0-8f8b-55b4b8476ce0', app_name='default-app-name', user_id='wz', state={}, events=[], last_update_time=1750816372.9626133)"
            ]
          },
          "metadata": {},
          "execution_count": 8
        }
      ]
    },
    {
      "cell_type": "code",
      "source": [
        "app.list_sessions(user_id=\"wz\")"
      ],
      "metadata": {
        "colab": {
          "base_uri": "https://localhost:8080/"
        },
        "id": "tRo1Yb-TyWc9",
        "outputId": "8ccd738b-1f9b-409a-c633-33a24f6522ba"
      },
      "execution_count": 9,
      "outputs": [
        {
          "output_type": "execute_result",
          "data": {
            "text/plain": [
              "ListSessionsResponse(session_ids=['a9cd8f43-06fc-44a0-8f8b-55b4b8476ce0'])"
            ]
          },
          "metadata": {},
          "execution_count": 9
        }
      ]
    },
    {
      "cell_type": "code",
      "source": [
        "session = app.get_session(user_id=\"wz\", session_id=session.id)\n",
        "session"
      ],
      "metadata": {
        "colab": {
          "base_uri": "https://localhost:8080/"
        },
        "id": "XHbEizi-2u8I",
        "outputId": "2cf14414-d600-4f5e-b353-0182ecc4f4bc"
      },
      "execution_count": 10,
      "outputs": [
        {
          "output_type": "execute_result",
          "data": {
            "text/plain": [
              "Session(id='a9cd8f43-06fc-44a0-8f8b-55b4b8476ce0', app_name='default-app-name', user_id='wz', state={}, events=[], last_update_time=1750816372.9626133)"
            ]
          },
          "metadata": {},
          "execution_count": 10
        }
      ]
    },
    {
      "cell_type": "code",
      "source": [
        "for event in app.stream_query(\n",
        "    user_id=\"wz\",\n",
        "    session_id=session.id,\n",
        "    message=\"roll a 20 sided die\",\n",
        "):\n",
        "    print(event)"
      ],
      "metadata": {
        "colab": {
          "base_uri": "https://localhost:8080/"
        },
        "id": "BR6naQrl2u_a",
        "outputId": "4cb6fb79-76b1-4179-d37c-85e5865dd549"
      },
      "execution_count": 11,
      "outputs": [
        {
          "output_type": "stream",
          "name": "stderr",
          "text": [
            "WARNING:google_genai.types:Warning: there are non-text parts in the response: ['function_call'], returning concatenated text result from text parts. Check the full candidates.content.parts accessor to get the full model response.\n"
          ]
        },
        {
          "output_type": "stream",
          "name": "stdout",
          "text": [
            "{'content': {'parts': [{'function_call': {'id': 'af-5f18ffff-56d6-4f8d-9c1e-e3671fa57fac', 'args': {'sides': 20}, 'name': 'roll_die'}}], 'role': 'model'}, 'invocation_id': 'e-66da8e21-9472-4a1b-9c2d-9f44b19fdc5b', 'author': 'data_processing_agent', 'actions': {'state_delta': {}, 'artifact_delta': {}, 'requested_auth_configs': {}}, 'long_running_tool_ids': set(), 'id': 'U2wcOCeS', 'timestamp': 1750816375.313786}\n",
            "{'content': {'parts': [{'function_response': {'id': 'af-5f18ffff-56d6-4f8d-9c1e-e3671fa57fac', 'name': 'roll_die', 'response': {'result': 20}}}], 'role': 'user'}, 'invocation_id': 'e-66da8e21-9472-4a1b-9c2d-9f44b19fdc5b', 'author': 'data_processing_agent', 'actions': {'state_delta': {}, 'artifact_delta': {}, 'requested_auth_configs': {}}, 'id': 'NAfa4Eb9', 'timestamp': 1750816376.834037}\n",
            "{'content': {'parts': [{'text': 'I rolled a 20 sided die and got a 20.\\n'}], 'role': 'model'}, 'invocation_id': 'e-66da8e21-9472-4a1b-9c2d-9f44b19fdc5b', 'author': 'data_processing_agent', 'actions': {'state_delta': {}, 'artifact_delta': {}, 'requested_auth_configs': {}}, 'id': 'i4uQG616', 'timestamp': 1750816376.835028}\n"
          ]
        }
      ]
    },
    {
      "cell_type": "code",
      "source": [
        "for event in app.stream_query(\n",
        "    user_id=\"wz\",\n",
        "    session_id=session.id,\n",
        "    message=\"roll one more time\",\n",
        "):\n",
        "    print(event)"
      ],
      "metadata": {
        "colab": {
          "base_uri": "https://localhost:8080/"
        },
        "id": "4REqmyyNXNkJ",
        "outputId": "61ab2514-0458-4e28-a065-096dc1c54252"
      },
      "execution_count": 12,
      "outputs": [
        {
          "output_type": "stream",
          "name": "stderr",
          "text": [
            "WARNING:google_genai.types:Warning: there are non-text parts in the response: ['function_call'], returning concatenated text result from text parts. Check the full candidates.content.parts accessor to get the full model response.\n"
          ]
        },
        {
          "output_type": "stream",
          "name": "stdout",
          "text": [
            "{'content': {'parts': [{'function_call': {'id': 'af-9bcbeab7-e150-446d-98fb-db2ddd4a6a5a', 'args': {'sides': 20}, 'name': 'roll_die'}}], 'role': 'model'}, 'invocation_id': 'e-5545694b-0e3e-4dcc-b9b7-c2e40f41d4d1', 'author': 'data_processing_agent', 'actions': {'state_delta': {}, 'artifact_delta': {}, 'requested_auth_configs': {}}, 'long_running_tool_ids': set(), 'id': 'vHsglvWX', 'timestamp': 1750816378.936659}\n",
            "{'content': {'parts': [{'function_response': {'id': 'af-9bcbeab7-e150-446d-98fb-db2ddd4a6a5a', 'name': 'roll_die', 'response': {'result': 2}}}], 'role': 'user'}, 'invocation_id': 'e-5545694b-0e3e-4dcc-b9b7-c2e40f41d4d1', 'author': 'data_processing_agent', 'actions': {'state_delta': {}, 'artifact_delta': {}, 'requested_auth_configs': {}}, 'id': 'gtalXV4e', 'timestamp': 1750816380.066893}\n",
            "{'content': {'parts': [{'text': 'I rolled a 20 sided die and got a 2.\\n'}], 'role': 'model'}, 'invocation_id': 'e-5545694b-0e3e-4dcc-b9b7-c2e40f41d4d1', 'author': 'data_processing_agent', 'actions': {'state_delta': {}, 'artifact_delta': {}, 'requested_auth_configs': {}}, 'id': '9ektJWt3', 'timestamp': 1750816380.067923}\n"
          ]
        }
      ]
    },
    {
      "cell_type": "code",
      "source": [
        "for event in app.stream_query(\n",
        "    user_id=\"wz\",\n",
        "    session_id=session.id,\n",
        "    message=\"what's the average of your rolls?\",\n",
        "):\n",
        "    print(event)"
      ],
      "metadata": {
        "colab": {
          "base_uri": "https://localhost:8080/"
        },
        "id": "NwCBYQ-uXYmv",
        "outputId": "69b675ef-3573-45eb-86c3-4262c75f6da3"
      },
      "execution_count": 13,
      "outputs": [
        {
          "output_type": "stream",
          "name": "stdout",
          "text": [
            "{'content': {'parts': [{'text': 'Okay, I rolled a 20 and then a 2. The average of my rolls is 11.\\n'}], 'role': 'model'}, 'invocation_id': 'e-e9be00fa-a55f-4bfd-8355-01464f7065ee', 'author': 'data_processing_agent', 'actions': {'state_delta': {}, 'artifact_delta': {}, 'requested_auth_configs': {}}, 'id': '2OZS4bjU', 'timestamp': 1750816381.96926}\n"
          ]
        }
      ]
    },
    {
      "cell_type": "code",
      "source": [
        "agent_context = '{\"message\":{\"role\":\"user\",\"parts\":[{\"text\":\"How were you built?\"}]},\"events\":[{\"content\":{\"role\":\"user\",\"parts\":[{\"text\":\"how were you built ?\"}]},\"author\":\"AgentSpace_root_agent\"},{\"content\":{\"role\":\"model\",\"parts\":[{\"functionCall\":{\"name\":\"agentspaceak\",\"args\":{\"question\":\"How were you built?\"},\"id\":\"14076651604820872102\"}}]},\"author\":\"AgentSpace_root_agent\",\"id\":\"14076651604820872102\"}]}'\n",
        "\n",
        "for response in app.streaming_agent_run_with_events(agent_context):\n",
        "    print(response)"
      ],
      "metadata": {
        "colab": {
          "base_uri": "https://localhost:8080/"
        },
        "id": "05d3OCNCS-4i",
        "outputId": "b8e35cb9-0eeb-47fb-b466-7f8c0ac4ee9f"
      },
      "execution_count": 14,
      "outputs": [
        {
          "output_type": "stream",
          "name": "stderr",
          "text": [
            "Event from an unknown agent: AgentSpace_root_agent, event id: 14076651604820872102\n",
            "Event from an unknown agent: AgentSpace_root_agent, event id: e6jzxXcp\n"
          ]
        },
        {
          "output_type": "stream",
          "name": "stdout",
          "text": [
            "{'events': [{'content': {'parts': [{'text': 'I am a large language model, trained by Google.'}], 'role': 'model'}, 'invocation_id': 'e-3a5b6bb3-6e02-4176-a43b-701b40946bec', 'author': 'data_processing_agent', 'actions': {'state_delta': {}, 'artifact_delta': {}, 'requested_auth_configs': {}}, 'id': 'bsmvspRq', 'timestamp': 1750816384.11976}]}\n"
          ]
        }
      ]
    },
    {
      "cell_type": "code",
      "source": [
        "agent_context = '{\"message\":{\"role\":\"user\",\"parts\":[{\"text\":\"How were you built?\"}]},\"events\":[{\"content\":{\"role\":\"user\",\"parts\":[{\"text\":\"how were you built ?\"}]},\"author\":\"AgentSpace_root_agent\"},{\"content\":{\"role\":\"model\",\"parts\":[{\"functionCall\":{\"name\":\"agentspaceak\",\"args\":{\"question\":\"How were you built?\"},\"id\":\"14076651604820872102\"}}]},\"author\":\"AgentSpace_root_agent\",\"id\":\"14076651604820872102\"}]}'\n",
        "\n",
        "for response in app.streaming_agent_run_with_events(agent_context):\n",
        "    for event in response.get(\"events\", []):\n",
        "        print(event)"
      ],
      "metadata": {
        "colab": {
          "base_uri": "https://localhost:8080/"
        },
        "id": "LU2l4NnzuJDN",
        "outputId": "0d0443a0-40a2-47d6-c8ae-fad0dbf2f88a"
      },
      "execution_count": 15,
      "outputs": [
        {
          "output_type": "stream",
          "name": "stderr",
          "text": [
            "Event from an unknown agent: AgentSpace_root_agent, event id: 14076651604820872102\n",
            "Event from an unknown agent: AgentSpace_root_agent, event id: EBwpiShT\n"
          ]
        },
        {
          "output_type": "stream",
          "name": "stdout",
          "text": [
            "{'content': {'parts': [{'text': 'I am a large language model, trained by Google.\\n'}], 'role': 'model'}, 'invocation_id': 'e-9ce2c69c-dc11-4233-80ed-51626a6aa0f6', 'author': 'data_processing_agent', 'actions': {'state_delta': {}, 'artifact_delta': {}, 'requested_auth_configs': {}}, 'id': '6fWiaedr', 'timestamp': 1750816386.047555}\n"
          ]
        }
      ]
    },
    {
      "cell_type": "markdown",
      "source": [
        "You can navigate to https://pantheon.corp.google.com/traces/explorer;project=reasoning-engine-test-1 to view the traces for it (they might take some time to show up).\n",
        "* If you don't have the permissions to view them in Cloud Trace, please follow the instructions in https://cloud.google.com/trace/docs/finding-traces#before_you_begin to grant yourself permission to use Trace Explorer with the project."
      ],
      "metadata": {
        "id": "iUE7ygI6cfOk"
      }
    },
    {
      "cell_type": "markdown",
      "source": [
        "# Deploy to Vertex AI Agent Engine\n",
        "To call and manage ADK applications in production, deploy the `app` to Vertex AI Agent Engine."
      ],
      "metadata": {
        "id": "VijvAI4TZp8H"
      }
    },
    {
      "cell_type": "code",
      "source": [
        "remote_app = agent_engines.create(\n",
        "    app,\n",
        "    display_name='ae3_Jun25',\n",
        "    requirements=[\n",
        "        WHL_FILE,\n",
        "        \"google-cloud-aiplatform[agent_engines] @ git+https://github.com/googleapis/python-aiplatform.git@copybara_738852226\",\n",
        "        \"google-genai==1.20.0\"\n",
        "    ],\n",
        "    extra_packages=[\n",
        "        WHL_FILE,\n",
        "    ],\n",
        ")"
      ],
      "metadata": {
        "colab": {
          "base_uri": "https://localhost:8080/"
        },
        "id": "enNZwvEUXt6o",
        "outputId": "5a8a2301-a2e3-4b64-b2a9-26f85693dbd5"
      },
      "execution_count": 16,
      "outputs": [
        {
          "output_type": "stream",
          "name": "stderr",
          "text": [
            "INFO:vertexai.agent_engines:Identified the following requirements: {'google-cloud-aiplatform': '1.87.0', 'cloudpickle': '3.1.1'}\n",
            "WARNING:vertexai.agent_engines:Failed to parse constraint: google_adk-0.0.2.dev20250402+nightly743266262-py3-none-any.whl. Exception: Expected end or semicolon (after name and no valid version specifier)\n",
            "    google_adk-0.0.2.dev20250402+nightly743266262-py3-none-any.whl\n",
            "                                ^\n",
            "WARNING:vertexai.agent_engines:The following requirements are missing: {'cloudpickle'}\n",
            "INFO:vertexai.agent_engines:The following requirements are appended: {'cloudpickle==3.1.1'}\n",
            "INFO:vertexai.agent_engines:The final list of requirements: ['google_adk-0.0.2.dev20250402+nightly743266262-py3-none-any.whl', 'google-cloud-aiplatform[agent_engines] @ git+https://github.com/googleapis/python-aiplatform.git@copybara_738852226', 'google-genai==1.20.0', 'cloudpickle==3.1.1']\n",
            "INFO:vertexai.agent_engines:Using bucket for-agent-engine-may25\n",
            "INFO:vertexai.agent_engines:Wrote to gs://for-agent-engine-may25/agent_engine/agent_engine.pkl\n",
            "INFO:vertexai.agent_engines:Writing to gs://for-agent-engine-may25/agent_engine/requirements.txt\n",
            "INFO:vertexai.agent_engines:Creating in-memory tarfile of extra_packages\n",
            "INFO:vertexai.agent_engines:Writing to gs://for-agent-engine-may25/agent_engine/dependencies.tar.gz\n",
            "INFO:vertexai.agent_engines:Creating AgentEngine\n",
            "INFO:vertexai.agent_engines:Create AgentEngine backing LRO: projects/606459840212/locations/us-central1/reasoningEngines/1164435590372917248/operations/9007896173314310144\n",
            "INFO:vertexai.agent_engines:View progress and logs at https://console.cloud.google.com/logs/query?project=weizhong-project01\n",
            "INFO:vertexai.agent_engines:AgentEngine created. Resource name: projects/606459840212/locations/us-central1/reasoningEngines/1164435590372917248\n",
            "INFO:vertexai.agent_engines:To use this AgentEngine in another session:\n",
            "INFO:vertexai.agent_engines:agent_engine = vertexai.agent_engines.get('projects/606459840212/locations/us-central1/reasoningEngines/1164435590372917248')\n"
          ]
        }
      ]
    },
    {
      "cell_type": "markdown",
      "source": [
        "**Remark**: You can ignore the following warnings:\n",
        "* (i) `WARNING:vertexai.agent_engines:Failed to parse constraint: ` and\n",
        "* (ii) `WARNING:vertexai.agent_engines:The following requirements are missing: {'cloudpickle'}`\n",
        "\n",
        "We have auto-heal mechanisms to still reflect them in the final list of requirements: `INFO:vertexai.agent_engines:The final list of requirements`"
      ],
      "metadata": {
        "id": "eK4He7dV_g13"
      }
    },
    {
      "cell_type": "markdown",
      "source": [
        "**Remark**: The automatic provisioning of permissions for Vertex AI Sessions have not rolled out yet, so you'll have to follow https://cloud.google.com/vertex-ai/generative-ai/docs/agent-engine/set-up#service-agent in the meantime to grant \"Vertex AI User\" (`roles/aiplatform.user`) to the service account in your GCP project"
      ],
      "metadata": {
        "id": "bPuswSHLhF_Q"
      }
    },
    {
      "cell_type": "markdown",
      "source": [
        "## Let's try it (remotely)"
      ],
      "metadata": {
        "id": "1ItR7ekDraxK"
      }
    },
    {
      "cell_type": "code",
      "source": [
        "import pprint\n",
        "\n",
        "pprint.pprint(remote_app.operation_schemas())"
      ],
      "metadata": {
        "colab": {
          "base_uri": "https://localhost:8080/"
        },
        "id": "6lviXEuUlTkP",
        "outputId": "fb920c68-6fec-4a9f-f990-17659c0eb1b2"
      },
      "execution_count": 17,
      "outputs": [
        {
          "output_type": "stream",
          "name": "stdout",
          "text": [
            "[{'api_mode': '',\n",
            "  'description': 'Get a session for the given user.\\n'\n",
            "                 '\\n'\n",
            "                 '        Args:\\n'\n",
            "                 '            user_id (str):\\n'\n",
            "                 '                Required. The ID of the user.\\n'\n",
            "                 '            session_id (str):\\n'\n",
            "                 '                Required. The ID of the session.\\n'\n",
            "                 '            **kwargs (dict[str, Any]):\\n'\n",
            "                 '                Optional. Additional keyword arguments to '\n",
            "                 'pass to the\\n'\n",
            "                 '                session service.\\n'\n",
            "                 '\\n'\n",
            "                 '        Returns:\\n'\n",
            "                 '            Session: The session instance (if any). It '\n",
            "                 'returns None if the\\n'\n",
            "                 '            session is not found.\\n'\n",
            "                 '\\n'\n",
            "                 '        Raises:\\n'\n",
            "                 '            RuntimeError: If the session is not found.\\n'\n",
            "                 '        ',\n",
            "  'name': 'get_session',\n",
            "  'parameters': {'properties': {'session_id': {'type': 'string'},\n",
            "                                'user_id': {'type': 'string'}},\n",
            "                 'required': ['user_id', 'session_id'],\n",
            "                 'type': 'object'}},\n",
            " {'api_mode': '',\n",
            "  'description': 'List sessions for the given user.\\n'\n",
            "                 '\\n'\n",
            "                 '        Args:\\n'\n",
            "                 '            user_id (str):\\n'\n",
            "                 '                Required. The ID of the user.\\n'\n",
            "                 '            **kwargs (dict[str, Any]):\\n'\n",
            "                 '                Optional. Additional keyword arguments to '\n",
            "                 'pass to the\\n'\n",
            "                 '                session service.\\n'\n",
            "                 '\\n'\n",
            "                 '        Returns:\\n'\n",
            "                 '            ListSessionsResponse: The list of sessions.\\n'\n",
            "                 '        ',\n",
            "  'name': 'list_sessions',\n",
            "  'parameters': {'properties': {'user_id': {'type': 'string'}},\n",
            "                 'required': ['user_id'],\n",
            "                 'type': 'object'}},\n",
            " {'api_mode': '',\n",
            "  'description': 'Creates a new session.\\n'\n",
            "                 '\\n'\n",
            "                 '        Args:\\n'\n",
            "                 '            user_id (str):\\n'\n",
            "                 '                Required. The ID of the user.\\n'\n",
            "                 '            session_id (str):\\n'\n",
            "                 '                Optional. The ID of the session. If not '\n",
            "                 'provided, an ID\\n'\n",
            "                 '                will be be generated for the session.\\n'\n",
            "                 '            state (dict[str, Any]):\\n'\n",
            "                 '                Optional. The initial state of the session.\\n'\n",
            "                 '            **kwargs (dict[str, Any]):\\n'\n",
            "                 '                Optional. Additional keyword arguments to '\n",
            "                 'pass to the\\n'\n",
            "                 '                session service.\\n'\n",
            "                 '\\n'\n",
            "                 '        Returns:\\n'\n",
            "                 '            Session: The newly created session instance.\\n'\n",
            "                 '        ',\n",
            "  'name': 'create_session',\n",
            "  'parameters': {'properties': {'session_id': {'nullable': True,\n",
            "                                               'type': 'string'},\n",
            "                                'state': {'nullable': True, 'type': 'object'},\n",
            "                                'user_id': {'type': 'string'}},\n",
            "                 'required': ['user_id'],\n",
            "                 'type': 'object'}},\n",
            " {'api_mode': '',\n",
            "  'description': 'Deletes a session for the given user.\\n'\n",
            "                 '\\n'\n",
            "                 '        Args:\\n'\n",
            "                 '            user_id (str):\\n'\n",
            "                 '                Required. The ID of the user.\\n'\n",
            "                 '            session_id (str):\\n'\n",
            "                 '                Required. The ID of the session.\\n'\n",
            "                 '            **kwargs (dict[str, Any]):\\n'\n",
            "                 '                Optional. Additional keyword arguments to '\n",
            "                 'pass to the\\n'\n",
            "                 '                session service.\\n'\n",
            "                 '        ',\n",
            "  'name': 'delete_session',\n",
            "  'parameters': {'properties': {'session_id': {'type': 'string'},\n",
            "                                'user_id': {'type': 'string'}},\n",
            "                 'required': ['user_id', 'session_id'],\n",
            "                 'type': 'object'}},\n",
            " {'api_mode': 'stream',\n",
            "  'description': 'Streams responses from the ADK application in response to a '\n",
            "                 'message.\\n'\n",
            "                 '\\n'\n",
            "                 '        Args:\\n'\n",
            "                 '            message (str):\\n'\n",
            "                 '                Required. The message to stream responses '\n",
            "                 'for.\\n'\n",
            "                 '            user_id (str):\\n'\n",
            "                 '                Required. The ID of the user.\\n'\n",
            "                 '            session_id (str):\\n'\n",
            "                 '                Optional. The ID of the session. If not '\n",
            "                 'provided, a new\\n'\n",
            "                 '                session will be created for the user.\\n'\n",
            "                 '            **kwargs (dict[str, Any]):\\n'\n",
            "                 '                Optional. Additional keyword arguments to '\n",
            "                 'pass to the\\n'\n",
            "                 '                runner.\\n'\n",
            "                 '\\n'\n",
            "                 '        Yields:\\n'\n",
            "                 '            The output of querying the ADK application.\\n'\n",
            "                 '        ',\n",
            "  'name': 'stream_query',\n",
            "  'parameters': {'properties': {'message': {'type': 'string'},\n",
            "                                'session_id': {'nullable': True,\n",
            "                                               'type': 'string'},\n",
            "                                'user_id': {'type': 'string'}},\n",
            "                 'required': ['message', 'user_id'],\n",
            "                 'type': 'object'}},\n",
            " {'api_mode': 'stream',\n",
            "  'description': None,\n",
            "  'name': 'streaming_agent_run_with_events',\n",
            "  'parameters': {'properties': {'request_json': {'type': 'string'}},\n",
            "                 'required': ['request_json'],\n",
            "                 'type': 'object'}}]\n"
          ]
        }
      ]
    },
    {
      "cell_type": "code",
      "source": [
        "session = remote_app.create_session(user_id=\"wz\")\n",
        "session"
      ],
      "metadata": {
        "colab": {
          "base_uri": "https://localhost:8080/"
        },
        "id": "B9R4GKDkcY6C",
        "outputId": "80ec60f3-80a7-4b8e-9b2f-cbd541cd47ad"
      },
      "execution_count": 18,
      "outputs": [
        {
          "output_type": "execute_result",
          "data": {
            "text/plain": [
              "{'events': [],\n",
              " 'user_id': 'wz',\n",
              " 'state': {},\n",
              " 'id': '6116728870608568320',\n",
              " 'app_name': '1164435590372917248',\n",
              " 'last_update_time': 1750816755.821699}"
            ]
          },
          "metadata": {},
          "execution_count": 18
        }
      ]
    },
    {
      "cell_type": "code",
      "source": [
        "remote_app.list_sessions(user_id=\"wz\")"
      ],
      "metadata": {
        "colab": {
          "base_uri": "https://localhost:8080/"
        },
        "id": "zcFo8SUqca-i",
        "outputId": "8529592b-e608-4d06-e4c3-3e20001f943a"
      },
      "execution_count": 19,
      "outputs": [
        {
          "output_type": "execute_result",
          "data": {
            "text/plain": [
              "{'session_ids': ['6116728870608568320']}"
            ]
          },
          "metadata": {},
          "execution_count": 19
        }
      ]
    },
    {
      "cell_type": "code",
      "source": [
        "session = remote_app.get_session(user_id=\"wz\", session_id=session[\"id\"])\n",
        "session"
      ],
      "metadata": {
        "colab": {
          "base_uri": "https://localhost:8080/"
        },
        "id": "R2oa4YmVccoN",
        "outputId": "397c69cf-927a-43bb-c49b-2121e240cee8",
        "collapsed": true
      },
      "execution_count": 20,
      "outputs": [
        {
          "output_type": "execute_result",
          "data": {
            "text/plain": [
              "{'events': [],\n",
              " 'last_update_time': 1750816755.821699,\n",
              " 'state': {},\n",
              " 'id': '6116728870608568320',\n",
              " 'app_name': '1164435590372917248',\n",
              " 'user_id': 'wz'}"
            ]
          },
          "metadata": {},
          "execution_count": 20
        }
      ]
    },
    {
      "cell_type": "code",
      "source": [
        "for event in remote_app.stream_query(\n",
        "    user_id=\"wz\",\n",
        "    session_id=session[\"id\"],\n",
        "    message=\"roll a 20 sided die\",\n",
        "):\n",
        "    print(event)"
      ],
      "metadata": {
        "colab": {
          "base_uri": "https://localhost:8080/"
        },
        "outputId": "b998754b-0e38-42bc-c46f-a0b882773757",
        "id": "8gsV87JPt4IL"
      },
      "execution_count": 21,
      "outputs": [
        {
          "output_type": "stream",
          "name": "stdout",
          "text": [
            "{'content': {'parts': [{'function_call': {'id': 'af-c9c0db9b-4af2-498f-91d8-077e7523ed3d', 'args': {'sides': 20}, 'name': 'roll_die'}}], 'role': 'model'}, 'invocation_id': 'e-f4f673b5-7c74-4046-8f6c-1aa06992a693', 'author': 'data_processing_agent', 'actions': {'state_delta': {}, 'artifact_delta': {}, 'requested_auth_configs': {}}, 'long_running_tool_ids': [], 'id': 'oUquhFCE', 'timestamp': 1750816761.784474}\n",
            "{'content': {'parts': [{'function_response': {'id': 'af-c9c0db9b-4af2-498f-91d8-077e7523ed3d', 'name': 'roll_die', 'response': {'result': 13}}}], 'role': 'user'}, 'invocation_id': 'e-f4f673b5-7c74-4046-8f6c-1aa06992a693', 'author': 'data_processing_agent', 'actions': {'state_delta': {}, 'artifact_delta': {}, 'requested_auth_configs': {}}, 'id': 'DAcTZLkg', 'timestamp': 1750816762.363945}\n",
            "{'content': {'parts': [{'text': 'I rolled a 13 on a 20 sided die.\\n'}], 'role': 'model'}, 'invocation_id': 'e-f4f673b5-7c74-4046-8f6c-1aa06992a693', 'author': 'data_processing_agent', 'actions': {'state_delta': {}, 'artifact_delta': {}, 'requested_auth_configs': {}}, 'id': 'Betsp8BH', 'timestamp': 1750816762.508548}\n"
          ]
        }
      ]
    },
    {
      "cell_type": "code",
      "source": [
        "for event in remote_app.stream_query(\n",
        "    user_id=\"wz\",\n",
        "    session_id=session[\"id\"],\n",
        "    message=\"One more time.\",\n",
        "):\n",
        "    print(event)"
      ],
      "metadata": {
        "id": "xvkFAipfgg5A",
        "outputId": "fe7169d6-56fd-407f-a5be-1e0aceae0cb7",
        "colab": {
          "base_uri": "https://localhost:8080/"
        }
      },
      "execution_count": 22,
      "outputs": [
        {
          "output_type": "stream",
          "name": "stdout",
          "text": [
            "{'content': {'parts': [{'function_call': {'id': 'af-ebee6ecb-f5bb-470e-ac7d-affb6e84ba01', 'args': {'sides': 20}, 'name': 'roll_die'}}], 'role': 'model'}, 'invocation_id': 'e-87259198-5401-4b42-a353-781a4c10ec9c', 'author': 'data_processing_agent', 'actions': {'state_delta': {}, 'artifact_delta': {}, 'requested_auth_configs': {}}, 'long_running_tool_ids': [], 'id': 'CNfVgVcr', 'timestamp': 1750816766.024541}\n",
            "{'content': {'parts': [{'function_response': {'id': 'af-ebee6ecb-f5bb-470e-ac7d-affb6e84ba01', 'name': 'roll_die', 'response': {'result': 1}}}], 'role': 'user'}, 'invocation_id': 'e-87259198-5401-4b42-a353-781a4c10ec9c', 'author': 'data_processing_agent', 'actions': {'state_delta': {}, 'artifact_delta': {}, 'requested_auth_configs': {}}, 'id': 'mPHvrQhg', 'timestamp': 1750816766.687334}\n",
            "{'content': {'parts': [{'text': 'I rolled a 1 on the 20 sided die.\\n'}], 'role': 'model'}, 'invocation_id': 'e-87259198-5401-4b42-a353-781a4c10ec9c', 'author': 'data_processing_agent', 'actions': {'state_delta': {}, 'artifact_delta': {}, 'requested_auth_configs': {}}, 'id': 'iOLVW2wG', 'timestamp': 1750816766.773101}\n"
          ]
        }
      ]
    },
    {
      "cell_type": "code",
      "source": [
        "for event in remote_app.stream_query(\n",
        "    user_id=\"wz\",\n",
        "    session_id=session[\"id\"],\n",
        "    message=\"And again.\",\n",
        "):\n",
        "    print(event)"
      ],
      "metadata": {
        "id": "durAyTJngmJS",
        "outputId": "19b327b4-96ce-4017-c3f9-a3e9508b2828",
        "colab": {
          "base_uri": "https://localhost:8080/"
        }
      },
      "execution_count": 23,
      "outputs": [
        {
          "output_type": "stream",
          "name": "stdout",
          "text": [
            "{'content': {'parts': [{'function_call': {'id': 'af-f8726f17-ce1a-4499-9f6e-d25a29b10554', 'args': {'sides': 20}, 'name': 'roll_die'}}], 'role': 'model'}, 'invocation_id': 'e-99e2d922-840b-4c5a-85c0-a8d15f81ac4e', 'author': 'data_processing_agent', 'actions': {'state_delta': {}, 'artifact_delta': {}, 'requested_auth_configs': {}}, 'long_running_tool_ids': [], 'id': 'LMHfuhP3', 'timestamp': 1750816769.919835}\n",
            "{'content': {'parts': [{'function_response': {'id': 'af-f8726f17-ce1a-4499-9f6e-d25a29b10554', 'name': 'roll_die', 'response': {'result': 12}}}], 'role': 'user'}, 'invocation_id': 'e-99e2d922-840b-4c5a-85c0-a8d15f81ac4e', 'author': 'data_processing_agent', 'actions': {'state_delta': {}, 'artifact_delta': {}, 'requested_auth_configs': {}}, 'id': 'PmdsUOEU', 'timestamp': 1750816770.45083}\n",
            "{'content': {'parts': [{'text': 'I rolled a 12 on the 20 sided die.\\n'}], 'role': 'model'}, 'invocation_id': 'e-99e2d922-840b-4c5a-85c0-a8d15f81ac4e', 'author': 'data_processing_agent', 'actions': {'state_delta': {}, 'artifact_delta': {}, 'requested_auth_configs': {}}, 'id': '45z4iSUK', 'timestamp': 1750816770.521209}\n"
          ]
        }
      ]
    },
    {
      "cell_type": "code",
      "source": [
        "for event in remote_app.stream_query(\n",
        "    user_id=\"wz\",\n",
        "    session_id=session[\"id\"],\n",
        "    message=\"What is the sum of all the previous rolls?\",\n",
        "):\n",
        "    print(event)"
      ],
      "metadata": {
        "id": "NrhJLnHJrhFZ",
        "colab": {
          "base_uri": "https://localhost:8080/"
        },
        "outputId": "07416da8-f28e-47c9-875f-19917b60a553"
      },
      "execution_count": 24,
      "outputs": [
        {
          "output_type": "stream",
          "name": "stdout",
          "text": [
            "{'content': {'parts': [{'text': 'The sum of the previous rolls (13, 1, and 12) is 26.\\n'}], 'role': 'model'}, 'invocation_id': 'e-9f29643b-0779-44e7-811e-cd93b6cfe58c', 'author': 'data_processing_agent', 'actions': {'state_delta': {}, 'artifact_delta': {}, 'requested_auth_configs': {}}, 'id': 'KJ48XYFC', 'timestamp': 1750816772.276286}\n"
          ]
        }
      ]
    },
    {
      "cell_type": "code",
      "source": [
        "agent_context = '{\"message\":{\"role\":\"user\",\"parts\":[{\"text\":\"How were you built?\"}]},\"events\":[{\"content\":{\"role\":\"user\",\"parts\":[{\"text\":\"how were you built ?\"}]},\"author\":\"AgentSpace_root_agent\"},{\"content\":{\"role\":\"model\",\"parts\":[{\"functionCall\":{\"name\":\"agentspaceak\",\"args\":{\"question\":\"How were you built?\"},\"id\":\"14076651604820872102\"}}]},\"author\":\"AgentSpace_root_agent\",\"id\":\"14076651604820872102\"}]}'\n",
        "\n",
        "for event in remote_app.streaming_agent_run_with_events(request_json=agent_context):\n",
        "    print(event)"
      ],
      "metadata": {
        "colab": {
          "base_uri": "https://localhost:8080/"
        },
        "id": "l159w4T8tuvS",
        "outputId": "12f0288d-ba34-463c-b3d6-2ecb1887e73d"
      },
      "execution_count": 25,
      "outputs": [
        {
          "output_type": "stream",
          "name": "stdout",
          "text": [
            "{'events': [{'content': {'parts': [{'text': 'I am a large language model, trained by Google.\\n'}], 'role': 'model'}, 'invocation_id': 'e-f7eb783c-102d-404f-9f5f-4541097a9b3d', 'author': 'data_processing_agent', 'actions': {'state_delta': {}, 'artifact_delta': {}, 'requested_auth_configs': {}}, 'id': 'Osx5CG5f', 'timestamp': 1750816774.173827}]}\n"
          ]
        }
      ]
    },
    {
      "cell_type": "markdown",
      "source": [
        "# AgentSpace integration\n",
        "\n",
        "First, submit request to @krzysiekw with your GCP project number and Agentspace app URL\n",
        "https://docs.google.com/document/d/1aNIgYM_CphUY4ay8oTn3yxUtRSTcn-TSNYkH2jdlyFs\n",
        "\n",
        "Next, update config to link Agent to Agentspace:\n",
        "\n",
        "API reference\n",
        "\n",
        "* [AssistantService.UpdateAssistant](http://google3/google/cloud/discoveryengine/v1main/assistant_service.proto;l=559-560;rcl=742731234)\n",
        "* [UpdateAssistantRequest](http://google3/google/cloud/discoveryengine/v1main/assistant_service.proto;l=1774-1775;rcl=742731234)\n",
        "* [Assistant](http://google3/google/cloud/discoveryengine/v1main/assistant.proto;l=24;rcl=742731234)"
      ],
      "metadata": {
        "id": "jKGx9zFBsKw7"
      }
    },
    {
      "cell_type": "code",
      "source": [
        "%%bash\n",
        "export PROJECT_ID=\"weizhong-project01\" #@param {type:\"string\"}\n",
        "export PROJECT_NUMBER=\"606459840212\" #@param {type:\"string\"}\n",
        "export REASONING_ENGINE=\"projects/weizhong-project01/locations/us-central1/reasoningEngines/2580395460715872256\" #@param {type:\"string\"}\n",
        "export AGENT_DISPLAY_NAME=\"This is a dice rolling agent!\"\n",
        "export AGENT_DESCRIPTION=\"The agent can only answer how it was built.\"\n",
        "export AGENT_ID=\"agent\" #@param {type:\"string\"}\n",
        "export AS_APP=\"enterprise-search-17484208_1748420861365\" #@param {type:\"string\"}\n",
        "\n",
        "curl -X PATCH -H \"Authorization: Bearer $(gcloud auth print-access-token)\" \\\n",
        "-H \"Content-Type: application/json\" \\\n",
        "-H \"x-goog-user-project: ${PROJECT_ID}\" \\\n",
        "https://discoveryengine.googleapis.com/v1alpha/projects/${PROJECT_NUMBER}/locations/global/collections/default_collection/engines/${AS_APP}/assistants/default_assistant?updateMask=agent_configs -d '{\n",
        "    \"name\": \"projects/${PROJECT_NUMBER}/locations/global/collections/default_collection/engines/${AS_APP}/assistants/default_assistant\",\n",
        "    \"displayName\": \"Default Assistant\",\n",
        "    \"agentConfigs\": [{\n",
        "      \"displayName\": \"'\"${AGENT_DISPLAY_NAME}\"'\",\n",
        "      \"vertexAiSdkAgentConnectionInfo\": {\n",
        "        \"reasoningEngine\": \"'\"${REASONING_ENGINE}\"'\"\n",
        "      },\n",
        "      \"toolDescription\": \"'\"${AGENT_DESCRIPTION}\"'\",\n",
        "      \"icon\": {\n",
        "        \"uri\": \"https://fonts.gstatic.com/s/i/short-term/release/googlesymbols/corporate_fare/default/24px.svg\"\n",
        "      },\n",
        "      \"id\": \"'\"${AGENT_ID}\"'\"\n",
        "    }]\n",
        "  }'"
      ],
      "metadata": {
        "id": "NL1PaRWSsM7m",
        "colab": {
          "base_uri": "https://localhost:8080/"
        },
        "outputId": "525f7a86-b867-4527-d216-66ae66c0a9a0"
      },
      "execution_count": 26,
      "outputs": [
        {
          "output_type": "stream",
          "name": "stdout",
          "text": [
            "{\n",
            "  \"name\": \"projects/606459840212/locations/global/collections/default_collection/engines/enterprise-search-17484208_1748420861365/assistants/default_assistant\",\n",
            "  \"displayName\": \"Default Assistant\",\n",
            "  \"agentConfigs\": [\n",
            "    {\n",
            "      \"displayName\": \"This is a dice rolling agent!\",\n",
            "      \"vertexAiSdkAgentConnectionInfo\": {\n",
            "        \"reasoningEngine\": \"projects/weizhong-project01/locations/us-central1/reasoningEngines/2580395460715872256\"\n",
            "      },\n",
            "      \"toolDescription\": \"The agent can only answer how it was built.\",\n",
            "      \"icon\": {\n",
            "        \"uri\": \"https://fonts.gstatic.com/s/i/short-term/release/googlesymbols/corporate_fare/default/24px.svg\"\n",
            "      },\n",
            "      \"id\": \"agent\"\n",
            "    }\n",
            "  ]\n",
            "}\n"
          ]
        },
        {
          "output_type": "stream",
          "name": "stderr",
          "text": [
            "  % Total    % Received % Xferd  Average Speed   Time    Time     Time  Current\n",
            "                                 Dload  Upload   Total   Spent    Left  Speed\n",
            "\r  0     0    0     0    0     0      0      0 --:--:-- --:--:-- --:--:--     0\r100  1351    0   689  100   662    933    896 --:--:-- --:--:-- --:--:--  1828\r100  1351    0   689  100   662    932    896 --:--:-- --:--:-- --:--:--  1828\n"
          ]
        }
      ]
    },
    {
      "cell_type": "markdown",
      "source": [
        "Finally, try the Agentspace UI:\n",
        "\n",
        "1. Open up the Agentspace app in GCP console\n",
        "2. From left menu, click `Integration`\n",
        "3. Open the URL provided\n",
        "4. From left menu, select the agent deployed"
      ],
      "metadata": {
        "id": "sNJWA-ifscep"
      }
    },
    {
      "cell_type": "markdown",
      "source": [
        "# Clean up"
      ],
      "metadata": {
        "id": "Q80NTTyGs939"
      }
    },
    {
      "cell_type": "code",
      "source": [
        "remote_app.delete(force=True)"
      ],
      "metadata": {
        "id": "GCel9M-YsdUr",
        "colab": {
          "base_uri": "https://localhost:8080/"
        },
        "outputId": "87bd144b-0ae2-486d-cee4-6712ebeca0e6"
      },
      "execution_count": 27,
      "outputs": [
        {
          "output_type": "stream",
          "name": "stderr",
          "text": [
            "INFO:vertexai.agent_engines:Delete Agent Engine backing LRO: projects/606459840212/locations/us-central1/operations/478078479074590720\n",
            "INFO:vertexai.agent_engines:Agent Engine deleted. Resource name: projects/606459840212/locations/us-central1/reasoningEngines/1164435590372917248\n"
          ]
        }
      ]
    },
    {
      "cell_type": "code",
      "source": [],
      "metadata": {
        "id": "mqoFIQxqED_V"
      },
      "execution_count": null,
      "outputs": []
    }
  ]
}